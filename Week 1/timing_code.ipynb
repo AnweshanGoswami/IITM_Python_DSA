{
  "cells": [
    {
      "cell_type": "markdown",
      "metadata": {
        "id": "YZfqacz3R_cy"
      },
      "source": [
        "# PDSA with Python, Week 1 - Timing Code"
      ]
    },
    {
      "cell_type": "markdown",
      "metadata": {
        "id": "8RxBrgZg0xK9"
      },
      "source": [
        "### Define a `Timer` class"
      ]
    },
    {
      "cell_type": "code",
      "execution_count": 1,
      "metadata": {
        "id": "jaJEcmhW6ATj"
      },
      "outputs": [],
      "source": [
        "import time\n",
        "\n",
        "class TimerError(Exception):\n",
        "    \"\"\"A custom exception used to report errors in use of Timer class\"\"\"\n",
        "\n",
        "class Timer:\n",
        "    def __init__(self):\n",
        "        self._start_time = None #No value assigned, not even zero\n",
        "        self._elapsed_time = None #No value assigned, not even zero\n",
        "\n",
        "    def start(self):\n",
        "        \"\"\"Start a new timer\"\"\"\n",
        "        if self._start_time is not None: #not none, therefore it has some value\n",
        "            raise TimerError(\"Timer is running. Use .stop()\")\n",
        "        self._start_time = time.perf_counter()\n",
        "\n",
        "    def stop(self):\n",
        "        \"\"\"Save the elapsed time and re-initialize timer\"\"\"\n",
        "        if self._start_time is None:\n",
        "           raise TimerError(\"Timer is not running. Use .start()\")\n",
        "        self._elapsed_time = time.perf_counter() - self._start_time\n",
        "        self._start_time = None #reset\n",
        "\n",
        "    def elapsed(self):\n",
        "        \"\"\"Report elapsed time\"\"\"\n",
        "        if self._elapsed_time is None:\n",
        "           raise TimerError(\"Timer has not been run yet. Use .start()\")\n",
        "        return(self_elapsed_time)\n",
        "\n",
        "    def __str__(self):\n",
        "        \"\"\"print() prints elapsed time\"\"\"\n",
        "        return(str(self._elapsed_time))"
      ]
    },
    {
      "cell_type": "markdown",
      "metadata": {
        "id": "Wl8_wvrnSPH7"
      },
      "source": [
        "### Experimentally check Python execution time\n",
        "* Run a simple loop $10^4, 10^5, \\ldots, 10^8$ times\n",
        "* Time taken ranges from approximately $0.001s$ to approximately $10s$"
      ]
    },
    {
      "cell_type": "code",
      "execution_count": 2,
      "metadata": {
        "colab": {
          "base_uri": "https://localhost:8080/"
        },
        "id": "fj9d33Cz6pEX",
        "outputId": "850384a4-8395-43da-9d21-691165012271"
      },
      "outputs": [
        {
          "name": "stdout",
          "output_type": "stream",
          "text": [
            "4 0.0006580000044777989\n",
            "5 0.006921499996678904\n",
            "6 0.07984239998040721\n",
            "7 0.5983516999986023\n",
            "8 4.875880099978531\n"
          ]
        }
      ],
      "source": [
        "\n",
        "for j in range(4,9):\n",
        "  start = time.perf_counter()  # Start the timer\n",
        "\n",
        "  # Run a trivial loop with 10^j iterations\n",
        "  n = 0\n",
        "  for i in range(10**j):\n",
        "    n = n+i #sum of all the numbers\n",
        "\n",
        "  end = time.perf_counter() \n",
        "  t = end-start  # Stop the timer\n",
        "  print(j,t) # Report time taken for this value of j"
      ]
    },
    {
      "cell_type": "code",
      "execution_count": 3,
      "metadata": {},
      "outputs": [
        {
          "name": "stdout",
          "output_type": "stream",
          "text": [
            "4 0.0006885000038892031\n",
            "5 0.0070232999860309064\n",
            "6 0.09208030000445433\n",
            "7 0.5230745000008028\n",
            "8 4.842532699985895\n"
          ]
        }
      ],
      "source": [
        "t = Timer()\n",
        "\n",
        "for j in range(4,9):\n",
        "  t.start()  # Start the timer\n",
        "\n",
        "  # Run a trivial loop with 10^j iterations\n",
        "  n = 0\n",
        "  for i in range(10**j):\n",
        "    n = n+i #sum of all the numbers\n",
        "\n",
        "  t.stop()   # Stop the timer\n",
        "  print(j,t) # Report time taken for this value of j"
      ]
    },
    {
      "cell_type": "markdown",
      "metadata": {
        "id": "VqNqQh2uTnUb"
      },
      "source": [
        "### If we change the basic operation inside the loop to a constant assignment, the time is slightly less"
      ]
    },
    {
      "cell_type": "code",
      "execution_count": null,
      "metadata": {
        "colab": {
          "base_uri": "https://localhost:8080/"
        },
        "id": "QyzzzfVpTnji",
        "outputId": "2224d344-f149-4f4f-8a3c-867f526648ba"
      },
      "outputs": [
        {
          "name": "stdout",
          "output_type": "stream",
          "text": [
            "4 0.0015917349999767794\n",
            "5 0.0088671290000093\n",
            "6 0.07052080700000829\n",
            "7 0.7320572719999916\n",
            "8 7.1662828649999994\n"
          ]
        }
      ],
      "source": [
        "t = Timer()\n",
        "for j in range(4,9):\n",
        "  t.start()  # Start the timer\n",
        "\n",
        "  # Run a trivial loop with 10^j iterations\n",
        "  n = 0\n",
        "  for i in range(10**j):\n",
        "    n = 0\n",
        "\n",
        "  t.stop()   # Stop the timer\n",
        "  print(j,t) # Report time taken for this value of j"
      ]
    }
  ],
  "metadata": {
    "colab": {
      "provenance": []
    },
    "kernelspec": {
      "display_name": "Python 3",
      "name": "python3"
    },
    "language_info": {
      "codemirror_mode": {
        "name": "ipython",
        "version": 3
      },
      "file_extension": ".py",
      "mimetype": "text/x-python",
      "name": "python",
      "nbconvert_exporter": "python",
      "pygments_lexer": "ipython3",
      "version": "3.11.9"
    }
  },
  "nbformat": 4,
  "nbformat_minor": 0
}
