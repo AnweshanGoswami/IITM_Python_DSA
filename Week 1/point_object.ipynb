{
  "cells": [
    {
      "cell_type": "markdown",
      "metadata": {
        "id": "Pv-EPhh7yz_a"
      },
      "source": [
        "# PDSA with Python, Week 1 - Classes and objects"
      ]
    },
    {
      "cell_type": "markdown",
      "metadata": {
        "id": "3e6GBtzfMs7O"
      },
      "source": [
        "### Basic definition of class `Point` using $(x,y)$ coordinates"
      ]
    },
    {
      "cell_type": "code",
      "execution_count": 1,
      "metadata": {
        "id": "ca2GbnOHzC2r"
      },
      "outputs": [],
      "source": [
        "class Point: #creating a point\n",
        "  def __init__(self,a=0,b=0):\n",
        "    self.x = a\n",
        "    self.y = b\n",
        "\n",
        "  def translate(self,deltax,deltay): #chganging a point\n",
        "    self.x += deltax\n",
        "    self.y += deltay\n",
        "\n",
        "  def odistance(self): #distance from origin\n",
        "    import math\n",
        "    d = math.sqrt(self.x*self.x +\n",
        "                  self.y*self.y)\n",
        "    return(d)"
      ]
    },
    {
      "cell_type": "markdown",
      "metadata": {
        "id": "vL5H9DY-NGgv"
      },
      "source": [
        "Create two points"
      ]
    },
    {
      "cell_type": "code",
      "execution_count": 2,
      "metadata": {
        "id": "-oTeAgIcNP2L"
      },
      "outputs": [],
      "source": [
        "p = Point(3,4)\n",
        "q = Point(7,10)"
      ]
    },
    {
      "cell_type": "markdown",
      "metadata": {
        "id": "XdAb4k1SNWoS"
      },
      "source": [
        "Compute `odistance` for `p` and `q`"
      ]
    },
    {
      "cell_type": "code",
      "execution_count": 3,
      "metadata": {
        "colab": {
          "base_uri": "https://localhost:8080/"
        },
        "id": "YzY1sm3bhUc9",
        "outputId": "fdcfb73b-2756-46d9-a7b5-693756737e49"
      },
      "outputs": [
        {
          "data": {
            "text/plain": [
              "(5.0, 12.206555615733702)"
            ]
          },
          "execution_count": 3,
          "metadata": {},
          "output_type": "execute_result"
        }
      ],
      "source": [
        "p.odistance(), q.odistance()"
      ]
    },
    {
      "cell_type": "markdown",
      "metadata": {
        "id": "jS7WVBYmNkfz"
      },
      "source": [
        "Translate `p` and check the distance"
      ]
    },
    {
      "cell_type": "code",
      "execution_count": 4,
      "metadata": {
        "colab": {
          "base_uri": "https://localhost:8080/"
        },
        "id": "ZWqlMbmANiGO",
        "outputId": "cbfef1ed-3010-4cf9-daca-52d44377fa14"
      },
      "outputs": [
        {
          "data": {
            "text/plain": [
              "10.0"
            ]
          },
          "execution_count": 4,
          "metadata": {},
          "output_type": "execute_result"
        }
      ],
      "source": [
        "p.translate(3,4)\n",
        "p.odistance()"
      ]
    },
    {
      "cell_type": "markdown",
      "metadata": {
        "id": "fV_cqd-TN6_N"
      },
      "source": [
        "* At this stage, `print()` does not produce anything meaningful\n",
        "* `+` is not defined yet"
      ]
    },
    {
      "cell_type": "code",
      "execution_count": 5,
      "metadata": {
        "colab": {
          "base_uri": "https://localhost:8080/"
        },
        "id": "5ExlIEd-kbAq",
        "outputId": "cf3773f1-591d-4b8f-853b-827f54ae8fd1"
      },
      "outputs": [
        {
          "name": "stdout",
          "output_type": "stream",
          "text": [
            "<__main__.Point object at 0x000001CB24009210>\n"
          ]
        }
      ],
      "source": [
        "print(p)"
      ]
    },
    {
      "cell_type": "code",
      "execution_count": 6,
      "metadata": {
        "colab": {
          "base_uri": "https://localhost:8080/",
          "height": 168
        },
        "id": "yKrNADbxOQQ3",
        "outputId": "08356ad6-8488-4edf-8d2b-2f5ba8d21d4c"
      },
      "outputs": [
        {
          "ename": "TypeError",
          "evalue": "unsupported operand type(s) for +: 'Point' and 'Point'",
          "output_type": "error",
          "traceback": [
            "\u001b[1;31m---------------------------------------------------------------------------\u001b[0m",
            "\u001b[1;31mTypeError\u001b[0m                                 Traceback (most recent call last)",
            "Cell \u001b[1;32mIn[6], line 1\u001b[0m\n\u001b[1;32m----> 1\u001b[0m \u001b[38;5;28mprint\u001b[39m(\u001b[43mp\u001b[49m\u001b[38;5;241;43m+\u001b[39;49m\u001b[43mq\u001b[49m)\n",
            "\u001b[1;31mTypeError\u001b[0m: unsupported operand type(s) for +: 'Point' and 'Point'"
          ]
        }
      ],
      "source": [
        "print(p+q)"
      ]
    },
    {
      "cell_type": "markdown",
      "metadata": {
        "id": "LDKw6QbcOWhn"
      },
      "source": [
        "## Now change the definition of `Point` to use $(r,\\theta)$ representation"
      ]
    },
    {
      "cell_type": "code",
      "execution_count": 7,
      "metadata": {
        "id": "Pu9qu_a5kJdJ"
      },
      "outputs": [],
      "source": [
        "import math\n",
        "class Point:\n",
        "  def __init__(self,a=0,b=0):\n",
        "    self.r = math.sqrt(a*a + b*b)\n",
        "    if a == 0:\n",
        "      self.theta = 0\n",
        "    else:\n",
        "      self.theta = math.atan(b/a)\n",
        "\n",
        "  def translate(self,deltax,deltay):\n",
        "    x = self.r*math.cos(self.theta)\n",
        "    y = self.r*math.sin(self.theta)\n",
        "    x += deltax\n",
        "    y += deltay\n",
        "    self.r = math.sqrt(x*x + y*y)\n",
        "    if x == 0:\n",
        "      self.theta = 0\n",
        "    else:\n",
        "      self.theta = math.atan(y/x)\n",
        "\n",
        "  def odistance(self):\n",
        "    return(self.r)\n"
      ]
    },
    {
      "cell_type": "markdown",
      "metadata": {
        "id": "R47rTz9YOx9M"
      },
      "source": [
        "### Repeat the examples above\n",
        "* Observe that nothing changes for the user of the class"
      ]
    },
    {
      "cell_type": "markdown",
      "metadata": {
        "id": "ZCNaDrTyOyOO"
      },
      "source": [
        "Create two points"
      ]
    },
    {
      "cell_type": "code",
      "execution_count": 8,
      "metadata": {
        "id": "Zqs81eH9OyOR"
      },
      "outputs": [],
      "source": [
        "p = Point(3,4)\n",
        "q = Point(7,10)"
      ]
    },
    {
      "cell_type": "markdown",
      "metadata": {
        "id": "5blqhCjgOyOU"
      },
      "source": [
        "Compute `odistance` for `p` and `q`"
      ]
    },
    {
      "cell_type": "code",
      "execution_count": 9,
      "metadata": {
        "colab": {
          "base_uri": "https://localhost:8080/"
        },
        "id": "i4h-cuOkOyOW",
        "outputId": "2d715329-fe9f-49a5-d352-05f10037f919"
      },
      "outputs": [
        {
          "data": {
            "text/plain": [
              "(5.0, 12.206555615733702)"
            ]
          },
          "execution_count": 9,
          "metadata": {},
          "output_type": "execute_result"
        }
      ],
      "source": [
        "p.odistance(), q.odistance()"
      ]
    },
    {
      "cell_type": "markdown",
      "metadata": {
        "id": "WKKpB9fCOyOa"
      },
      "source": [
        "Translate `p` and check the distance"
      ]
    },
    {
      "cell_type": "code",
      "execution_count": 10,
      "metadata": {
        "colab": {
          "base_uri": "https://localhost:8080/"
        },
        "id": "-8g6qFUKOyOc",
        "outputId": "8090c1ad-4c86-43aa-d776-77db82f067a2"
      },
      "outputs": [
        {
          "data": {
            "text/plain": [
              "10.0"
            ]
          },
          "execution_count": 10,
          "metadata": {},
          "output_type": "execute_result"
        }
      ],
      "source": [
        "p.translate(3,4)\n",
        "p.odistance()"
      ]
    },
    {
      "cell_type": "code",
      "execution_count": 11,
      "metadata": {
        "colab": {
          "base_uri": "https://localhost:8080/"
        },
        "id": "AtHNg3ybP-kR",
        "outputId": "2f3b558b-0424-4a78-a4b3-3e8485cacbe3"
      },
      "outputs": [
        {
          "name": "stdout",
          "output_type": "stream",
          "text": [
            "<__main__.Point object at 0x000001CB23FF38D0>\n"
          ]
        }
      ],
      "source": [
        "print(p)"
      ]
    },
    {
      "cell_type": "code",
      "execution_count": 12,
      "metadata": {
        "colab": {
          "base_uri": "https://localhost:8080/",
          "height": 168
        },
        "id": "Rdds_CEuP5ga",
        "outputId": "d996a299-baa9-4ea9-a884-24ef9806f369"
      },
      "outputs": [
        {
          "ename": "TypeError",
          "evalue": "unsupported operand type(s) for +: 'Point' and 'Point'",
          "output_type": "error",
          "traceback": [
            "\u001b[1;31m---------------------------------------------------------------------------\u001b[0m",
            "\u001b[1;31mTypeError\u001b[0m                                 Traceback (most recent call last)",
            "Cell \u001b[1;32mIn[12], line 1\u001b[0m\n\u001b[1;32m----> 1\u001b[0m \u001b[38;5;28mprint\u001b[39m(\u001b[43mp\u001b[49m\u001b[38;5;241;43m+\u001b[39;49m\u001b[43mq\u001b[49m)\n",
            "\u001b[1;31mTypeError\u001b[0m: unsupported operand type(s) for +: 'Point' and 'Point'"
          ]
        }
      ],
      "source": [
        "print(p+q)"
      ]
    },
    {
      "cell_type": "markdown",
      "metadata": {
        "id": "WY4_XGDWPdWV"
      },
      "source": [
        "## Return to $(x,y)$ representation, adding `__str__` and `__add__`"
      ]
    },
    {
      "cell_type": "code",
      "execution_count": 13,
      "metadata": {},
      "outputs": [],
      "source": [
        "class Point:\n",
        "  def __init__(self,a=0,b=0):\n",
        "    self.x = a\n",
        "    self.y = b\n",
        "\n",
        "  def translate(self,deltax,deltay):\n",
        "    self.x += deltax\n",
        "    self.y += deltay\n",
        "\n",
        "  def odistance(self):\n",
        "    import math\n",
        "    d = math.sqrt(self.x*self.x +\n",
        "                  self.y*self.y)\n",
        "    return(d)\n",
        "\n",
        "def printcoor(self):\n",
        "  print(self.x, self.y)"
      ]
    },
    {
      "cell_type": "code",
      "execution_count": 14,
      "metadata": {},
      "outputs": [
        {
          "name": "stdout",
          "output_type": "stream",
          "text": [
            "3 4\n"
          ]
        }
      ],
      "source": [
        "a = Point(3,4)\n",
        "printcoor(a)"
      ]
    },
    {
      "cell_type": "markdown",
      "metadata": {},
      "source": [
        "So now we know that print function works individually, but python does not know how to print that new datatype that we have created. For the, we need to define str and add functions."
      ]
    },
    {
      "cell_type": "code",
      "execution_count": 1,
      "metadata": {
        "id": "IA5wxJM2l6bY"
      },
      "outputs": [],
      "source": [
        "class Point:\n",
        "  def __init__(self,a=0,b=0):\n",
        "    self.x = a\n",
        "    self.y = b\n",
        "\n",
        "  def translate(self,deltax,deltay):\n",
        "    self.x += deltax\n",
        "    self.y += deltay\n",
        "\n",
        "  def odistance(self):\n",
        "    import math\n",
        "    d = math.sqrt(self.x*self.x +\n",
        "                  self.y*self.y)\n",
        "    return(d)\n",
        "\n",
        "  def __str__(self): #return cooridnates in (x,y) form. This is for the print function\n",
        "    return('('+str(self.x)+','\n",
        "            +str(self.y)+')')\n",
        "\n",
        "  def __add__(self,p):\n",
        "    return(Point(self.x + p.x,\n",
        "                 self.y + p.y))\n"
      ]
    },
    {
      "cell_type": "markdown",
      "metadata": {
        "id": "TDx4EfoAPyou"
      },
      "source": [
        "## Again, run the same examples"
      ]
    },
    {
      "cell_type": "code",
      "execution_count": 2,
      "metadata": {
        "id": "YQKmATswPw3z"
      },
      "outputs": [],
      "source": [
        "p = Point(3,4)\n",
        "q = Point(7,10)"
      ]
    },
    {
      "cell_type": "markdown",
      "metadata": {
        "id": "ZDzM_xaaPw31"
      },
      "source": [
        "Compute `odistance` for `p` and `q`"
      ]
    },
    {
      "cell_type": "code",
      "execution_count": 17,
      "metadata": {
        "colab": {
          "base_uri": "https://localhost:8080/"
        },
        "id": "WKTMDwUoPw32",
        "outputId": "07a2e36f-54c6-4364-d6c4-b29c33d077d8"
      },
      "outputs": [
        {
          "data": {
            "text/plain": [
              "(5.0, 12.206555615733702)"
            ]
          },
          "execution_count": 17,
          "metadata": {},
          "output_type": "execute_result"
        }
      ],
      "source": [
        "p.odistance(), q.odistance()"
      ]
    },
    {
      "cell_type": "markdown",
      "metadata": {
        "id": "QBWwxM5XPw34"
      },
      "source": [
        "Translate `p` and check the distance"
      ]
    },
    {
      "cell_type": "code",
      "execution_count": 18,
      "metadata": {
        "colab": {
          "base_uri": "https://localhost:8080/"
        },
        "id": "-yYwSGgHPw35",
        "outputId": "f0c4fb05-ad16-4c9b-d1bc-13689a991072"
      },
      "outputs": [
        {
          "data": {
            "text/plain": [
              "10.0"
            ]
          },
          "execution_count": 18,
          "metadata": {},
          "output_type": "execute_result"
        }
      ],
      "source": [
        "p.translate(3,4)\n",
        "p.odistance()"
      ]
    },
    {
      "cell_type": "markdown",
      "metadata": {
        "id": "IJ223fxdPw37"
      },
      "source": [
        "In the following two cells, we see a difference\n",
        "* Since `__str__` is defined, `print()` gives useful output\n",
        "* `+` works as expected thanks to the definition for `__add__`"
      ]
    },
    {
      "cell_type": "markdown",
      "metadata": {
        "id": "8wmgdrGdRMpX"
      },
      "source": []
    },
    {
      "cell_type": "code",
      "execution_count": 3,
      "metadata": {
        "colab": {
          "base_uri": "https://localhost:8080/"
        },
        "id": "nqy2SmN2Pw38",
        "outputId": "b2461d51-27f3-4592-bce4-74daa9b509b1"
      },
      "outputs": [
        {
          "name": "stdout",
          "output_type": "stream",
          "text": [
            "(3,4)\n"
          ]
        }
      ],
      "source": [
        "print(p)"
      ]
    },
    {
      "cell_type": "code",
      "execution_count": 20,
      "metadata": {
        "colab": {
          "base_uri": "https://localhost:8080/"
        },
        "id": "5xXveEMAPw39",
        "outputId": "b9f83da6-c9e4-4094-811d-d7b13cd3b302"
      },
      "outputs": [
        {
          "name": "stdout",
          "output_type": "stream",
          "text": [
            "(13,18)\n"
          ]
        }
      ],
      "source": [
        "print(p+q)"
      ]
    }
  ],
  "metadata": {
    "colab": {
      "provenance": []
    },
    "kernelspec": {
      "display_name": "Python 3",
      "name": "python3"
    },
    "language_info": {
      "codemirror_mode": {
        "name": "ipython",
        "version": 3
      },
      "file_extension": ".py",
      "mimetype": "text/x-python",
      "name": "python",
      "nbconvert_exporter": "python",
      "pygments_lexer": "ipython3",
      "version": "3.11.9"
    }
  },
  "nbformat": 4,
  "nbformat_minor": 0
}
