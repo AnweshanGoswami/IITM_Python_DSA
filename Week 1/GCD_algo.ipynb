{
  "cells": [
    {
      "cell_type": "markdown",
      "metadata": {
        "id": "RPbDWc0dUsNk"
      },
      "source": [
        "# PDSA with Python, Week 1 - Python Recap: gcd and primality"
      ]
    },
    {
      "cell_type": "markdown",
      "metadata": {
        "id": "dmttYKbgEX4K"
      },
      "source": [
        "# **gcd**"
      ]
    },
    {
      "cell_type": "markdown",
      "metadata": {
        "id": "V0hlBQnw9RWq"
      },
      "source": [
        "\n",
        "\n",
        "## Compute gcd via list of common factors\n",
        "\n",
        "\n"
      ]
    },
    {
      "cell_type": "code",
      "execution_count": 1,
      "metadata": {
        "id": "rysAUNRaU_Zy"
      },
      "outputs": [],
      "source": [
        "def gcd(m,n):\n",
        "  cf = []   # List of common factors\n",
        "  for i in range(1,min(m,n)+1):\n",
        "    if (m%i) == 0 and (n%i) == 0:\n",
        "      cf.append(i)\n",
        "  return(cf[-1])\n"
      ]
    },
    {
      "cell_type": "markdown",
      "metadata": {
        "id": "ckvKxvDi9zwL"
      },
      "source": [
        "## Compute gcd using most recent common factor"
      ]
    },
    {
      "cell_type": "code",
      "execution_count": 4,
      "metadata": {
        "id": "n8DaeWjm9x4d"
      },
      "outputs": [],
      "source": [
        "def gcd(m,n):\n",
        "  for i in range(1,min(m,n)+1):\n",
        "    if (m%i) == 0 and (n%i) == 0:\n",
        "      mrcf = i\n",
        "  return(mrcf)"
      ]
    },
    {
      "cell_type": "markdown",
      "metadata": {
        "id": "2hAYxl4R-OTz"
      },
      "source": [
        "### Let's use the `Timer` class to evaluate naive gcd"
      ]
    },
    {
      "cell_type": "code",
      "execution_count": 2,
      "metadata": {
        "id": "jaJEcmhW6ATj"
      },
      "outputs": [],
      "source": [
        "import time\n",
        "\n",
        "class TimerError(Exception):\n",
        "    \"\"\"A custom exception used to report errors in use of Timer class\"\"\"\n",
        "\n",
        "class Timer:\n",
        "    def __init__(self):\n",
        "        self._start_time = None\n",
        "        self._elapsed_time = None\n",
        "\n",
        "    def start(self):\n",
        "        \"\"\"Start a new timer\"\"\"\n",
        "        if self._start_time is not None:\n",
        "            raise TimerError(\"Timer is running. Use .stop()\")\n",
        "        self._start_time = time.perf_counter()\n",
        "\n",
        "    def stop(self):\n",
        "        \"\"\"Save the elapsed time and re-initialize timer\"\"\"\n",
        "        if self._start_time is None:\n",
        "           raise TimerError(\"Timer is not running. Use .start()\")\n",
        "        self._elapsed_time = time.perf_counter() - self._start_time\n",
        "        self._start_time = None\n",
        "\n",
        "    def elapsed(self):\n",
        "        \"\"\"Report elapsed time\"\"\"\n",
        "        if self._elapsed_time is None:\n",
        "           raise TimerError(\"Timer has not been run yet. Use .start()\")\n",
        "        return(self_elapsed_time)\n",
        "\n",
        "    def __str__(self):\n",
        "        \"\"\"print() prints elapsed time\"\"\"\n",
        "        return(str(self._elapsed_time))"
      ]
    },
    {
      "cell_type": "markdown",
      "metadata": {
        "id": "JqGdMuEPBMxC"
      },
      "source": [
        "## Experiment with inputs of size $10^6$ to $10^8$"
      ]
    },
    {
      "cell_type": "code",
      "execution_count": 5,
      "metadata": {
        "colab": {
          "base_uri": "https://localhost:8080/"
        },
        "id": "y2lwEGQhAEEl",
        "outputId": "3fcbd250-06c1-45b5-9a6b-3b7a51e456c7"
      },
      "outputs": [
        {
          "name": "stdout",
          "output_type": "stream",
          "text": [
            "6712345 7654321 1\n",
            "0.2722080999810714\n",
            "67812345 87654321 9\n",
            "1.9468806000077166\n",
            "678912345 987654321 9\n",
            "19.463046899996698\n"
          ]
        }
      ],
      "source": [
        "t = Timer()\n",
        "# 10^6\n",
        "t.start()\n",
        "print(6712345,7654321,gcd(6712345,7654321))\n",
        "t.stop()\n",
        "print(t)\n",
        "# 10^7\n",
        "t.start()\n",
        "print(67812345,87654321,gcd(67812345,87654321))\n",
        "t.stop()\n",
        "print(t)\n",
        "# 10^8\n",
        "t.start()\n",
        "print(678912345,987654321,gcd(678912345,987654321))\n",
        "t.stop()\n",
        "print(t)"
      ]
    },
    {
      "cell_type": "markdown",
      "metadata": {
        "id": "iWIbCGhY7opx"
      },
      "source": [
        "## Recursive gcd using m-n"
      ]
    },
    {
      "cell_type": "code",
      "execution_count": 8,
      "metadata": {
        "id": "4wmzaEPo7uoH"
      },
      "outputs": [],
      "source": [
        "def gcd(m,n):\n",
        "  (a,b) = (max(m,n), min(m,n))\n",
        "  if a%b == 0:\n",
        "    return(b)\n",
        "  else:\n",
        "    return(gcd(b,a-b))"
      ]
    },
    {
      "cell_type": "markdown",
      "metadata": {
        "id": "82VzKrB5BafM"
      },
      "source": [
        "## Re-run experiment with inputs of size $10^6$ to $10^8$"
      ]
    },
    {
      "cell_type": "code",
      "execution_count": 9,
      "metadata": {
        "colab": {
          "base_uri": "https://localhost:8080/",
          "height": 236
        },
        "id": "1w9VAcP7BafO",
        "outputId": "8bdd1652-cde9-430b-cd8a-e8a292996836"
      },
      "outputs": [
        {
          "name": "stdout",
          "output_type": "stream",
          "text": [
            "6712345 7654321 1\n",
            "0.00015720000374130905\n",
            "67812345 87654321 9\n",
            "6.670001312159002e-05\n",
            "678912345 987654321 9\n",
            "7.670000195503235e-05\n"
          ]
        }
      ],
      "source": [
        "t = Timer()\n",
        "# 10^6\n",
        "t.start()\n",
        "print(6712345,7654321,gcd(6712345,7654321))\n",
        "t.stop()\n",
        "print(t)\n",
        "# 10^7\n",
        "t.start()\n",
        "print(67812345,87654321,gcd(67812345,87654321))\n",
        "t.stop()\n",
        "print(t)\n",
        "# 10^8\n",
        "t.start()\n",
        "print(678912345,987654321,gcd(678912345,987654321))\n",
        "t.stop()\n",
        "print(t)"
      ]
    },
    {
      "cell_type": "markdown",
      "metadata": {
        "id": "XtLL6SYsCgWg"
      },
      "source": [
        "## But all is not well.  Python has a small recursion depth (default is 999)"
      ]
    },
    {
      "cell_type": "code",
      "execution_count": null,
      "metadata": {
        "colab": {
          "base_uri": "https://localhost:8080/"
        },
        "id": "cbk7_oHtCrhU",
        "outputId": "4906eb82-f87a-49d8-d0f0-0f92d57dbb27"
      },
      "outputs": [
        {
          "data": {
            "text/plain": [
              "1"
            ]
          },
          "execution_count": 16,
          "metadata": {
            "tags": []
          },
          "output_type": "execute_result"
        }
      ],
      "source": [
        "gcd(2,999)"
      ]
    },
    {
      "cell_type": "code",
      "execution_count": null,
      "metadata": {
        "colab": {
          "base_uri": "https://localhost:8080/",
          "height": 313
        },
        "id": "SwuJtm6DCvgD",
        "outputId": "e237f191-6e95-40d4-aabf-b8a0f5eb2a1d"
      },
      "outputs": [
        {
          "ename": "RecursionError",
          "evalue": "ignored",
          "output_type": "error",
          "traceback": [
            "\u001b[0;31m---------------------------------------------------------------------------\u001b[0m",
            "\u001b[0;31mRecursionError\u001b[0m                            Traceback (most recent call last)",
            "\u001b[0;32m<ipython-input-17-438d0c21cfb7>\u001b[0m in \u001b[0;36m<module>\u001b[0;34m()\u001b[0m\n\u001b[0;32m----> 1\u001b[0;31m \u001b[0mgcd\u001b[0m\u001b[0;34m(\u001b[0m\u001b[0;36m2\u001b[0m\u001b[0;34m,\u001b[0m\u001b[0;36m9999\u001b[0m\u001b[0;34m)\u001b[0m\u001b[0;34m\u001b[0m\u001b[0;34m\u001b[0m\u001b[0m\n\u001b[0m",
            "\u001b[0;32m<ipython-input-14-f3dc3b415bd2>\u001b[0m in \u001b[0;36mgcd\u001b[0;34m(m, n)\u001b[0m\n\u001b[1;32m      4\u001b[0m     \u001b[0;32mreturn\u001b[0m\u001b[0;34m(\u001b[0m\u001b[0mb\u001b[0m\u001b[0;34m)\u001b[0m\u001b[0;34m\u001b[0m\u001b[0;34m\u001b[0m\u001b[0m\n\u001b[1;32m      5\u001b[0m   \u001b[0;32melse\u001b[0m\u001b[0;34m:\u001b[0m\u001b[0;34m\u001b[0m\u001b[0;34m\u001b[0m\u001b[0m\n\u001b[0;32m----> 6\u001b[0;31m     \u001b[0;32mreturn\u001b[0m\u001b[0;34m(\u001b[0m\u001b[0mgcd\u001b[0m\u001b[0;34m(\u001b[0m\u001b[0mb\u001b[0m\u001b[0;34m,\u001b[0m\u001b[0ma\u001b[0m\u001b[0;34m-\u001b[0m\u001b[0mb\u001b[0m\u001b[0;34m)\u001b[0m\u001b[0;34m)\u001b[0m\u001b[0;34m\u001b[0m\u001b[0;34m\u001b[0m\u001b[0m\n\u001b[0m",
            "... last 1 frames repeated, from the frame below ...\n",
            "\u001b[0;32m<ipython-input-14-f3dc3b415bd2>\u001b[0m in \u001b[0;36mgcd\u001b[0;34m(m, n)\u001b[0m\n\u001b[1;32m      4\u001b[0m     \u001b[0;32mreturn\u001b[0m\u001b[0;34m(\u001b[0m\u001b[0mb\u001b[0m\u001b[0;34m)\u001b[0m\u001b[0;34m\u001b[0m\u001b[0;34m\u001b[0m\u001b[0m\n\u001b[1;32m      5\u001b[0m   \u001b[0;32melse\u001b[0m\u001b[0;34m:\u001b[0m\u001b[0;34m\u001b[0m\u001b[0;34m\u001b[0m\u001b[0m\n\u001b[0;32m----> 6\u001b[0;31m     \u001b[0;32mreturn\u001b[0m\u001b[0;34m(\u001b[0m\u001b[0mgcd\u001b[0m\u001b[0;34m(\u001b[0m\u001b[0mb\u001b[0m\u001b[0;34m,\u001b[0m\u001b[0ma\u001b[0m\u001b[0;34m-\u001b[0m\u001b[0mb\u001b[0m\u001b[0;34m)\u001b[0m\u001b[0;34m)\u001b[0m\u001b[0;34m\u001b[0m\u001b[0;34m\u001b[0m\u001b[0m\n\u001b[0m",
            "\u001b[0;31mRecursionError\u001b[0m: maximum recursion depth exceeded in comparison"
          ]
        }
      ],
      "source": [
        "gcd(2,9999)"
      ]
    },
    {
      "cell_type": "markdown",
      "metadata": {
        "id": "cmcQq1_4CzPm"
      },
      "source": [
        "## Can manually set recursion depth to a larger value"
      ]
    },
    {
      "cell_type": "code",
      "execution_count": null,
      "metadata": {
        "colab": {
          "base_uri": "https://localhost:8080/"
        },
        "id": "ig6chBMAC6YI",
        "outputId": "af72c261-ce52-4f64-dac8-97cc889f5a28"
      },
      "outputs": [
        {
          "data": {
            "text/plain": [
              "1"
            ]
          },
          "execution_count": 2,
          "metadata": {
            "tags": []
          },
          "output_type": "execute_result"
        }
      ],
      "source": [
        "import sys\n",
        "sys.setrecursionlimit(10000)\n",
        "gcd(2,9999)"
      ]
    },
    {
      "cell_type": "markdown",
      "metadata": {
        "id": "Eik7FUlxDdYs"
      },
      "source": [
        "## Increasing recursion limit by another factor of 10 causes Colab to crash"
      ]
    },
    {
      "cell_type": "code",
      "execution_count": 10,
      "metadata": {
        "id": "9QmEzloi7_EH"
      },
      "outputs": [
        {
          "data": {
            "text/plain": [
              "1"
            ]
          },
          "execution_count": 10,
          "metadata": {},
          "output_type": "execute_result"
        }
      ],
      "source": [
        "import sys\n",
        "sys.setrecursionlimit(100000)\n",
        "gcd(2,99999)"
      ]
    },
    {
      "cell_type": "markdown",
      "metadata": {
        "id": "Nj009zSt7OZv"
      },
      "source": [
        "## Euclid's algorithm"
      ]
    },
    {
      "cell_type": "code",
      "execution_count": 11,
      "metadata": {
        "id": "t5Da1zBq7dTF"
      },
      "outputs": [],
      "source": [
        "def gcd(m,n):\n",
        "  (a,b) = (max(m,n), min(m,n))\n",
        "  if a%b == 0:\n",
        "    return(b)\n",
        "  else:\n",
        "    return(gcd(b,a%b))"
      ]
    },
    {
      "cell_type": "markdown",
      "metadata": {
        "id": "SuxCbe8UDpJ7"
      },
      "source": [
        "## Re-run experiment with inputs of size $10^6$ to $10^8$"
      ]
    },
    {
      "cell_type": "code",
      "execution_count": 12,
      "metadata": {
        "colab": {
          "base_uri": "https://localhost:8080/"
        },
        "id": "lP1fOFnsDpJ-",
        "outputId": "461fd93f-647e-4399-f3ef-c3aaf40f05a1"
      },
      "outputs": [
        {
          "name": "stdout",
          "output_type": "stream",
          "text": [
            "6712345 7654321 1\n",
            "0.00013259999104775488\n",
            "67812345 87654321 9\n",
            "6.0999998822808266e-05\n",
            "678912345 987654321 9\n",
            "5.4599979193881154e-05\n"
          ]
        }
      ],
      "source": [
        "t = Timer()\n",
        "# 10^6\n",
        "t.start()\n",
        "print(6712345,7654321,gcd(6712345,7654321))\n",
        "t.stop()\n",
        "print(t)\n",
        "# 10^7\n",
        "t.start()\n",
        "print(67812345,87654321,gcd(67812345,87654321))\n",
        "t.stop()\n",
        "print(t)\n",
        "# 10^8\n",
        "t.start()\n",
        "print(678912345,987654321,gcd(678912345,987654321))\n",
        "t.stop()\n",
        "print(t)"
      ]
    },
    {
      "cell_type": "markdown",
      "metadata": {
        "id": "boMh8WntD0Mp"
      },
      "source": [
        "## Can go much further with Euclid's algorithm --- even $10^{16}$ takes only 0.001s\n"
      ]
    },
    {
      "cell_type": "code",
      "execution_count": 13,
      "metadata": {
        "colab": {
          "base_uri": "https://localhost:8080/"
        },
        "id": "z73p3Ugn8rzL",
        "outputId": "f75c4ca0-34bd-4c5d-fe7a-5271760a8887"
      },
      "outputs": [
        {
          "name": "stdout",
          "output_type": "stream",
          "text": [
            "678912345678912345 987654321987654321 9000000009\n",
            "0.00013810000382363796\n"
          ]
        }
      ],
      "source": [
        "# 10^16\n",
        "t.start()\n",
        "print(678912345678912345,987654321987654321,gcd(678912345678912345,987654321987654321))\n",
        "t.stop()\n",
        "print(t)"
      ]
    },
    {
      "cell_type": "markdown",
      "metadata": {
        "id": "L_awDxL7ESDy"
      },
      "source": [
        "# **Primality**"
      ]
    },
    {
      "cell_type": "code",
      "execution_count": null,
      "metadata": {
        "id": "0sL8GRl6WV3J"
      },
      "outputs": [],
      "source": [
        "def factors(n):\n",
        "  fl = []   # factor list\n",
        "  for i in range(1,n+1):\n",
        "    if (n%i) == 0:\n",
        "      fl.append(i)\n",
        "  return(fl)\n",
        "\n",
        "def prime(n):\n",
        "  return(factors(n) == [1,n])"
      ]
    },
    {
      "cell_type": "code",
      "execution_count": null,
      "metadata": {
        "colab": {
          "base_uri": "https://localhost:8080/"
        },
        "id": "asmFntAgElI_",
        "outputId": "e6777b2e-ae1c-4bfc-bd7d-b3cc70d9562d"
      },
      "outputs": [
        {
          "name": "stdout",
          "output_type": "stream",
          "text": [
            "2, 3, 5, 7, 11, 13, 17, 19, 23, 29, 31, 37, 41, 43, 47, 53, 59, 61, 67, 71, 73, 79, 83, 89, 97, \n"
          ]
        }
      ],
      "source": [
        "for i in range(100):\n",
        "  if prime(i):\n",
        "    print(i,end=\", \")\n",
        "print()"
      ]
    },
    {
      "cell_type": "code",
      "execution_count": null,
      "metadata": {
        "id": "MFVkPGSRWcbI"
      },
      "outputs": [],
      "source": [
        "def primesupto(m):\n",
        "  pl = []   # prime list\n",
        "  for i in range(1,m+1):\n",
        "    if prime(i):\n",
        "      pl.append(i)\n",
        "  return(pl)"
      ]
    },
    {
      "cell_type": "code",
      "execution_count": null,
      "metadata": {
        "colab": {
          "base_uri": "https://localhost:8080/"
        },
        "id": "qKNJj2Z0E1wk",
        "outputId": "e995dc79-145b-4139-def4-627455ccee86"
      },
      "outputs": [
        {
          "name": "stdout",
          "output_type": "stream",
          "text": [
            "[2, 3, 5, 7, 11, 13, 17, 19, 23, 29, 31, 37, 41, 43, 47, 53, 59, 61, 67, 71, 73, 79, 83, 89, 97, 101, 103, 107, 109, 113, 127, 131, 137, 139, 149, 151, 157, 163, 167, 173, 179, 181, 191, 193, 197, 199, 211, 223, 227, 229, 233, 239, 241, 251, 257, 263, 269, 271, 277, 281, 283, 293, 307, 311, 313, 317, 331, 337, 347, 349, 353, 359, 367, 373, 379, 383, 389, 397, 401, 409, 419, 421, 431, 433, 439, 443, 449, 457, 461, 463, 467, 479, 487, 491, 499, 503, 509, 521, 523, 541, 547, 557, 563, 569, 571, 577, 587, 593, 599, 601, 607, 613, 617, 619, 631, 641, 643, 647, 653, 659, 661, 673, 677, 683, 691, 701, 709, 719, 727, 733, 739, 743, 751, 757, 761, 769, 773, 787, 797, 809, 811, 821, 823, 827, 829, 839, 853, 857, 859, 863, 877, 881, 883, 887, 907, 911, 919, 929, 937, 941, 947, 953, 967, 971, 977, 983, 991, 997]\n"
          ]
        }
      ],
      "source": [
        "print(primesupto(1000))"
      ]
    },
    {
      "cell_type": "code",
      "execution_count": null,
      "metadata": {
        "id": "vbGaYEWlXcz9"
      },
      "outputs": [],
      "source": [
        "def firstprimes(m):\n",
        "  (count,i,pl) = (0,1,[])\n",
        "  while (count < m):\n",
        "    if prime(i):\n",
        "      (count,pl) = (count+1,pl+[i])\n",
        "    i = i+1\n",
        "  return(pl)"
      ]
    },
    {
      "cell_type": "code",
      "execution_count": null,
      "metadata": {
        "colab": {
          "base_uri": "https://localhost:8080/"
        },
        "id": "z4sT35OzFCGx",
        "outputId": "30f7561b-a841-4b8e-bd72-c2c70de2edcb"
      },
      "outputs": [
        {
          "name": "stdout",
          "output_type": "stream",
          "text": [
            "[2, 3, 5, 7, 11, 13, 17, 19, 23, 29, 31, 37, 41, 43, 47, 53, 59, 61, 67, 71, 73, 79, 83, 89, 97, 101, 103, 107, 109, 113, 127, 131, 137, 139, 149, 151, 157, 163, 167, 173, 179, 181, 191, 193, 197, 199, 211, 223, 227, 229, 233, 239, 241, 251, 257, 263, 269, 271, 277, 281, 283, 293, 307, 311, 313, 317, 331, 337, 347, 349, 353, 359, 367, 373, 379, 383, 389, 397, 401, 409, 419, 421, 431, 433, 439, 443, 449, 457, 461, 463, 467, 479, 487, 491, 499, 503, 509, 521, 523, 541]\n"
          ]
        }
      ],
      "source": [
        "print(firstprimes(100))"
      ]
    },
    {
      "cell_type": "markdown",
      "metadata": {
        "id": "kfa5Qv6hFKQ-"
      },
      "source": [
        "## Directly check if n has a non-trivial factor"
      ]
    },
    {
      "cell_type": "code",
      "execution_count": null,
      "metadata": {
        "id": "M3YfwPr7XfN-"
      },
      "outputs": [],
      "source": [
        "def prime(n):\n",
        "  result = True\n",
        "  for i in range(2,n):\n",
        "    if (n%i) == 0:\n",
        "      result = False\n",
        "  return(result)"
      ]
    },
    {
      "cell_type": "code",
      "execution_count": null,
      "metadata": {
        "colab": {
          "base_uri": "https://localhost:8080/"
        },
        "id": "SAkVboQoXmyO",
        "outputId": "0e2b2034-4554-4db4-86e2-a565cb8ce87a"
      },
      "outputs": [
        {
          "name": "stdout",
          "output_type": "stream",
          "text": [
            "0, 1, 2, 3, 5, 7, 11, 13, 17, 19, 23, 29, 31, 37, 41, 43, 47, 53, 59, 61, 67, 71, 73, 79, 83, 89, 97, \n"
          ]
        }
      ],
      "source": [
        "for i in range(100):\n",
        "  if prime(i):\n",
        "    print(i,end=\", \")\n",
        "print()"
      ]
    },
    {
      "cell_type": "markdown",
      "metadata": {
        "id": "wxg6SuV7FVY6"
      },
      "source": [
        "## Note that this incorrectly lists 0 and 1 as prime!"
      ]
    },
    {
      "cell_type": "markdown",
      "metadata": {
        "id": "rIJ_fzq4Fv_F"
      },
      "source": [
        "## Compute frequencies of differences between consecutive primes"
      ]
    },
    {
      "cell_type": "code",
      "execution_count": null,
      "metadata": {
        "id": "OmrW77MOEwNt"
      },
      "outputs": [],
      "source": [
        "def primediffs(n):\n",
        "  lastprime = 2\n",
        "  pd = {}  # Dictionary for\n",
        "           # prime diferences\n",
        "  for i in range(3,n+1):\n",
        "    if prime(i):\n",
        "      d = i - lastprime\n",
        "      lastprime = i\n",
        "      if d in pd.keys():\n",
        "        pd[d] = pd[d] + 1\n",
        "      else:\n",
        "        pd[d] = 1\n",
        "  return(pd)"
      ]
    },
    {
      "cell_type": "code",
      "execution_count": null,
      "metadata": {
        "colab": {
          "base_uri": "https://localhost:8080/"
        },
        "id": "L6Fus_loF4XJ",
        "outputId": "f17a9509-d03f-435c-b97b-9710395186b6"
      },
      "outputs": [
        {
          "name": "stdout",
          "output_type": "stream",
          "text": [
            "{1: 1, 2: 205, 4: 202, 6: 299, 8: 101, 14: 54, 10: 119, 12: 105, 18: 40, 20: 15, 22: 16, 34: 2, 24: 15, 16: 33, 26: 3, 28: 5, 30: 11, 32: 1, 36: 1}\n"
          ]
        }
      ],
      "source": [
        "pd10000 = primediffs(10000)\n",
        "print(pd10000)"
      ]
    },
    {
      "cell_type": "markdown",
      "metadata": {
        "id": "OehCBjT3GH7W"
      },
      "source": [
        "## $3 - 2 = 1$. Other than this, all differences are even. Why?"
      ]
    }
  ],
  "metadata": {
    "colab": {
      "provenance": []
    },
    "kernelspec": {
      "display_name": "Python 3",
      "name": "python3"
    },
    "language_info": {
      "codemirror_mode": {
        "name": "ipython",
        "version": 3
      },
      "file_extension": ".py",
      "mimetype": "text/x-python",
      "name": "python",
      "nbconvert_exporter": "python",
      "pygments_lexer": "ipython3",
      "version": "3.11.9"
    }
  },
  "nbformat": 4,
  "nbformat_minor": 0
}
