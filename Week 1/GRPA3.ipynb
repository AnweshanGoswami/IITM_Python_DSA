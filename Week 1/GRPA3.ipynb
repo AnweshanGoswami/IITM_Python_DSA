{
 "cells": [
  {
   "cell_type": "code",
   "execution_count": 33,
   "metadata": {},
   "outputs": [],
   "source": [
    "def odd_one(L):\n",
    "    odd = {\"int\":0, \"float\":0, \"str\":0, \"bool\": 0}\n",
    "    for i in L:\n",
    "        if type(i) == int:\n",
    "            odd[\"int\"] += 1\n",
    "        elif type(i) == float:\n",
    "            odd[\"float\"] += 1\n",
    "        elif type(i) == str:\n",
    "            odd[\"str\"] += 1\n",
    "        elif type(i) == bool:\n",
    "            odd[\"bool\"] += 1\n",
    "    for i in odd.keys():\n",
    "        if odd[i] == 1:\n",
    "            return (i)\n",
    "\n",
    "\n"
   ]
  },
  {
   "cell_type": "code",
   "execution_count": 35,
   "metadata": {},
   "outputs": [
    {
     "data": {
      "text/plain": [
       "str"
      ]
     },
     "execution_count": 35,
     "metadata": {},
     "output_type": "execute_result"
    }
   ],
   "source": [
    "l = [1,2,3.4,5,10]\n",
    "type(odd_one(l))"
   ]
  },
  {
   "cell_type": "code",
   "execution_count": null,
   "metadata": {},
   "outputs": [],
   "source": []
  }
 ],
 "metadata": {
  "kernelspec": {
   "display_name": "Python 3",
   "language": "python",
   "name": "python3"
  },
  "language_info": {
   "codemirror_mode": {
    "name": "ipython",
    "version": 3
   },
   "file_extension": ".py",
   "mimetype": "text/x-python",
   "name": "python",
   "nbconvert_exporter": "python",
   "pygments_lexer": "ipython3",
   "version": "3.11.9"
  }
 },
 "nbformat": 4,
 "nbformat_minor": 2
}
