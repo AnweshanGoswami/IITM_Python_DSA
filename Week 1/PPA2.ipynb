{
 "cells": [
  {
   "cell_type": "code",
   "execution_count": 36,
   "metadata": {},
   "outputs": [],
   "source": [
    "import math\n",
    "class Triangle:\n",
    "    def __init__(self, a=0, b=0,c=0):\n",
    "        self.a = a \n",
    "        self.b = b\n",
    "        self.c = c\n",
    "    def Is_valid(self):\n",
    "        if (self.a+self.b>self.c) and (self.a+self.c>self.b) and (self.b+self.c>self.a):\n",
    "            return (\"Valid\")\n",
    "        else:\n",
    "            return (\"Invalid\")\n",
    "    def Side_Classification(self):\n",
    "        if Triangle.Is_valid(self) == \"Invalid\":\n",
    "            return (\"Invalid\")\n",
    "        else:\n",
    "            if self.a == self.b == self.c:\n",
    "                return (\"Equilateral\")\n",
    "            elif (self.a == self.b != self.c) or (self.b == self.c != self.a) or (self.c == self.a != self.b):\n",
    "                return (\"Isosceles\")\n",
    "            else:\n",
    "                return (\"Scalene\")\n",
    "    \n",
    "    def Angle_Classification(self):\n",
    "        if Triangle.Is_valid(self) == \"Invalid\":\n",
    "            return (\"Invalid\")\n",
    "        else:\n",
    "            if max(self.a, self.b, self.c) == self.a:\n",
    "                if (self.b*self.b) + (self.c*self.c )> (self.a*self.a):\n",
    "                    return (\"Acute\")\n",
    "                elif (self.b*self.b) + (self.c*self.c ) == (self.a*self.a):\n",
    "                    return (\"Right\")\n",
    "                else:\n",
    "                    return (\"Obtuse\")\n",
    "            elif max(self.a, self.b, self.c) == self.b:\n",
    "                if (self.a*self.a) + (self.c*self.c )> (self.b*self.b):\n",
    "                    return (\"Acute\")\n",
    "                elif (self.a*self.a) + (self.c*self.c ) == (self.b*self.b):\n",
    "                    return (\"Right\")\n",
    "                else:\n",
    "                    return (\"Obtuse\")\n",
    "            else:\n",
    "                if (self.b*self.b) + (self.a*self.a )> (self.c*self.c):\n",
    "                    return (\"Acute\")\n",
    "                elif (self.b*self.b) + (self.a*self.a ) == (self.c*self.c):\n",
    "                    return (\"Right\")\n",
    "                else:\n",
    "                    return (\"Obtuse\")\n",
    "    def Area(self):\n",
    "        if Triangle.Is_valid(self) == \"Invalid\":\n",
    "            return (\"Invalid\")\n",
    "        else:\n",
    "            s = (self.a + self.b + self.c)/2\n",
    "            return (math.sqrt(s*(s-self.a)*(s-self.b)*(s-self.c)))"
   ]
  },
  {
   "cell_type": "code",
   "execution_count": 38,
   "metadata": {},
   "outputs": [
    {
     "name": "stdout",
     "output_type": "stream",
     "text": [
      "Valid\n",
      "Scalene\n",
      "Obtuse\n",
      "2.9047375096555625\n"
     ]
    }
   ],
   "source": [
    "a=2\n",
    "b=3\n",
    "c=4\n",
    "T=Triangle(a,b,c)\n",
    "print(T.Is_valid())\n",
    "print(T.Side_Classification())\n",
    "print(T.Angle_Classification())\n",
    "print(T.Area())"
   ]
  },
  {
   "cell_type": "code",
   "execution_count": 39,
   "metadata": {},
   "outputs": [
    {
     "name": "stdout",
     "output_type": "stream",
     "text": [
      "Invalid\n",
      "Invalid\n",
      "Invalid\n",
      "Invalid\n"
     ]
    }
   ],
   "source": [
    "a=10\n",
    "b=3\n",
    "c=5\n",
    "T=Triangle(a,b,c)\n",
    "print(T.Is_valid())\n",
    "print(T.Side_Classification())\n",
    "print(T.Angle_Classification())\n",
    "print(T.Area())"
   ]
  },
  {
   "cell_type": "code",
   "execution_count": 40,
   "metadata": {},
   "outputs": [
    {
     "name": "stdout",
     "output_type": "stream",
     "text": [
      "Valid\n",
      "Equilateral\n",
      "Acute\n",
      "10.825317547305483\n"
     ]
    }
   ],
   "source": [
    "a=5\n",
    "b=5\n",
    "c=5\n",
    "T=Triangle(a,b,c)\n",
    "print(T.Is_valid())\n",
    "print(T.Side_Classification())\n",
    "print(T.Angle_Classification())\n",
    "print(T.Area())"
   ]
  }
 ],
 "metadata": {
  "kernelspec": {
   "display_name": "Python 3",
   "language": "python",
   "name": "python3"
  },
  "language_info": {
   "codemirror_mode": {
    "name": "ipython",
    "version": 3
   },
   "file_extension": ".py",
   "mimetype": "text/x-python",
   "name": "python",
   "nbconvert_exporter": "python",
   "pygments_lexer": "ipython3",
   "version": "3.11.9"
  }
 },
 "nbformat": 4,
 "nbformat_minor": 2
}
