{
 "cells": [
  {
   "cell_type": "code",
   "execution_count": 20,
   "metadata": {},
   "outputs": [],
   "source": [
    "def Find_Min_Difference(L,P):\n",
    "    L.sort() #sorting it would ensure that differences are optimised for max or min\n",
    "    mindiff = max(L) - min(L) #this is the max possible difference, can only be lowered from here\n",
    "    for i in range(len(L)-P+1): # number of times the loop must run is same as number of subsets that can be formed\n",
    "        x = L[i:i+P] #slicing according to size\n",
    "        diff = x[-1] - x[0]\n",
    "        if (diff < mindiff):\n",
    "            mindiff = diff\n",
    "    return (mindiff)\n"
   ]
  },
  {
   "cell_type": "code",
   "execution_count": 21,
   "metadata": {},
   "outputs": [
    {
     "name": "stdout",
     "output_type": "stream",
     "text": [
      "6\n"
     ]
    }
   ],
   "source": [
    "a = [1,3,4,7,9,9,12,13,56]\n",
    "print(Find_Min_Difference(a,5))"
   ]
  },
  {
   "cell_type": "code",
   "execution_count": 19,
   "metadata": {},
   "outputs": [
    {
     "name": "stdout",
     "output_type": "stream",
     "text": [
      "None\n",
      "[1, 3, 4, 7, 9, 9, 12, 13, 56]\n",
      "56 1\n"
     ]
    }
   ],
   "source": [
    "a = [3,4,1,9,56,7,9,12,13]\n",
    "l = a.sort()\n",
    "print(l)\n",
    "print(a)\n",
    "print(max(a),min(a))"
   ]
  },
  {
   "cell_type": "code",
   "execution_count": 4,
   "metadata": {},
   "outputs": [
    {
     "name": "stdout",
     "output_type": "stream",
     "text": [
      "[1, 3, 4, 7, 9]\n",
      "[3, 4, 7, 9, 9]\n",
      "[4, 7, 9, 9, 12]\n",
      "[7, 9, 9, 12, 13]\n",
      "[9, 9, 12, 13, 56]\n"
     ]
    }
   ],
   "source": [
    "a = [1,3,4,7,9,9,12,13,56]\n",
    "p=5\n",
    "for i in range(len(a)-p+1):\n",
    "    print(a[i:i+p])"
   ]
  },
  {
   "cell_type": "code",
   "execution_count": null,
   "metadata": {},
   "outputs": [],
   "source": []
  }
 ],
 "metadata": {
  "kernelspec": {
   "display_name": "Python 3",
   "language": "python",
   "name": "python3"
  },
  "language_info": {
   "codemirror_mode": {
    "name": "ipython",
    "version": 3
   },
   "file_extension": ".py",
   "mimetype": "text/x-python",
   "name": "python",
   "nbconvert_exporter": "python",
   "pygments_lexer": "ipython3",
   "version": "3.11.9"
  }
 },
 "nbformat": 4,
 "nbformat_minor": 2
}
