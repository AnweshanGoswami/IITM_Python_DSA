{
 "cells": [
  {
   "cell_type": "code",
   "execution_count": 15,
   "metadata": {},
   "outputs": [],
   "source": [
    "def partition(array, low, up):\n",
    "    i = low+1\n",
    "    j = up\n",
    "    pivot = array[low]\n",
    "\n",
    "    while (i<=j):\n",
    "        while (array[i]< pivot and i<up):\n",
    "            print(\"current i = \", i, \"first while is correct, i changes to i = \",i+1)\n",
    "            i += 1\n",
    "\n",
    "        while (array[j]> pivot):\n",
    "            print(\"current j = \", j, \"second while is correct, j changes to j = \",j-1)\n",
    "            j -= 1\n",
    "        if(i<j):\n",
    "            print(\"current i = \", i, \"if is correctis correct, i changes to i = \",i+1)\n",
    "            print(\"current j = \", j, \"if is correct, j changes to j = \",j-1)\n",
    "            array[i], array[j] = array[j], array[i]\n",
    "            i += 1\n",
    "            j -= 1\n",
    "            print(array)\n",
    "        else:\n",
    "            i+=1\n",
    "    array[low] = array[j]\n",
    "    array[j] = pivot\n",
    "    return array"
   ]
  },
  {
   "cell_type": "code",
   "execution_count": 16,
   "metadata": {},
   "outputs": [
    {
     "name": "stdout",
     "output_type": "stream",
     "text": [
      "current j =  9 second while is correct, j changes to j =  8\n",
      "current i =  1 if is correctis correct, i changes to i =  2\n",
      "current j =  8 if is correct, j changes to j =  7\n",
      "[13, 6, 8, 10, 21, 7, 2, 32, 18, 19]\n",
      "current i =  2 first while is correct, i changes to i =  3\n",
      "current i =  3 first while is correct, i changes to i =  4\n",
      "current j =  7 second while is correct, j changes to j =  6\n",
      "current i =  4 if is correctis correct, i changes to i =  5\n",
      "current j =  6 if is correct, j changes to j =  5\n",
      "[13, 6, 8, 10, 2, 7, 21, 32, 18, 19]\n",
      "current i =  5 first while is correct, i changes to i =  6\n"
     ]
    },
    {
     "data": {
      "text/plain": [
       "[7, 6, 8, 10, 2, 13, 21, 32, 18, 19]"
      ]
     },
     "execution_count": 16,
     "metadata": {},
     "output_type": "execute_result"
    }
   ],
   "source": [
    "l = [13,18,8,10,21,7,2,32,6,19]\n",
    "partition(l,0,9)"
   ]
  },
  {
   "cell_type": "code",
   "execution_count": 2,
   "metadata": {},
   "outputs": [
    {
     "data": {
      "text/plain": [
       "4"
      ]
     },
     "execution_count": 2,
     "metadata": {},
     "output_type": "execute_result"
    }
   ],
   "source": [
    "((58%11)+1)%11\n"
   ]
  },
  {
   "cell_type": "code",
   "execution_count": null,
   "metadata": {},
   "outputs": [],
   "source": []
  }
 ],
 "metadata": {
  "kernelspec": {
   "display_name": "Python 3",
   "language": "python",
   "name": "python3"
  },
  "language_info": {
   "codemirror_mode": {
    "name": "ipython",
    "version": 3
   },
   "file_extension": ".py",
   "mimetype": "text/x-python",
   "name": "python",
   "nbconvert_exporter": "python",
   "pygments_lexer": "ipython3",
   "version": "3.11.9"
  }
 },
 "nbformat": 4,
 "nbformat_minor": 2
}
