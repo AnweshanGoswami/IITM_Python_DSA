{
 "cells": [
  {
   "cell_type": "code",
   "execution_count": 89,
   "metadata": {},
   "outputs": [],
   "source": [
    "l = [1004,1003,1004,1003,1004,1005,1003,1004,1003,1002,1005,1002,1002,1001,1002,1002,1002]"
   ]
  },
  {
   "cell_type": "code",
   "execution_count": 90,
   "metadata": {},
   "outputs": [],
   "source": [
    "def DishPrepareOrder(order_list):\n",
    "    #creating a dictionary to store frequencies of each order\n",
    "    orderfreq = {}\n",
    "    for i in order_list:\n",
    "        if i in orderfreq.keys():\n",
    "            orderfreq[i] += 1\n",
    "        else:\n",
    "            orderfreq[i] = 1\n",
    "\n",
    "    #Sorting the frequencies\n",
    "    a = sorted(list(orderfreq.values()))[::-1]\n",
    "\n",
    "    #now, we create a key for each frequency, and then add the orders with the same frequency as an entry into that key\n",
    "    ls = {}\n",
    "    for i in a:\n",
    "        ls[i] = []\n",
    "\n",
    "    #populating the dictionary\n",
    "    for i in orderfreq:\n",
    "        ls[orderfreq[i]].append(i)\n",
    "\n",
    "    #sorting each list so that ascending order\n",
    "    for i in ls:\n",
    "        ls[i].sort()\n",
    "\n",
    "    ans = [] # the list that we will return\n",
    "\n",
    "    for i in ls:\n",
    "        for j in ls[i]:\n",
    "            ans.append(j)\n",
    "\n",
    "    return (ans)\n",
    "\n"
   ]
  },
  {
   "cell_type": "code",
   "execution_count": 91,
   "metadata": {},
   "outputs": [
    {
     "data": {
      "text/plain": [
       "[1002, 1003, 1004, 1005, 1001]"
      ]
     },
     "execution_count": 91,
     "metadata": {},
     "output_type": "execute_result"
    }
   ],
   "source": [
    "DishPrepareOrder(l)"
   ]
  },
  {
   "cell_type": "code",
   "execution_count": 32,
   "metadata": {},
   "outputs": [
    {
     "data": {
      "text/plain": [
       "[1, 2, 4, 4, 6]"
      ]
     },
     "execution_count": 32,
     "metadata": {},
     "output_type": "execute_result"
    }
   ],
   "source": [
    "freq.sort()\n",
    "freq"
   ]
  },
  {
   "cell_type": "code",
   "execution_count": null,
   "metadata": {},
   "outputs": [],
   "source": [
    "freq2 = []\n",
    "for i in range(len(freq)-1):\n",
    "    if freq[i] == freq[i+1]:\n",
    "        if freqkeys[i]\n",
    "\n"
   ]
  },
  {
   "cell_type": "code",
   "execution_count": 55,
   "metadata": {},
   "outputs": [
    {
     "data": {
      "text/plain": [
       "{1004: 4, 1003: 4, 1005: 2, 1002: 6, 1001: 1}"
      ]
     },
     "execution_count": 55,
     "metadata": {},
     "output_type": "execute_result"
    }
   ],
   "source": [
    "orderfreq"
   ]
  },
  {
   "cell_type": "code",
   "execution_count": 75,
   "metadata": {},
   "outputs": [],
   "source": [
    "l=[1009, 1001, 1005, 1004, 1008, 1002, 1003, 1006, 1007]"
   ]
  },
  {
   "cell_type": "code",
   "execution_count": 87,
   "metadata": {},
   "outputs": [
    {
     "name": "stdout",
     "output_type": "stream",
     "text": [
      "[1002, 1003, 1004, 1005, 1001]\n",
      "{6: [1002], 4: [1003, 1004], 2: [1005], 1: [1001]}\n",
      "order freq  {1004: 4, 1003: 4, 1005: 2, 1002: 6, 1001: 1}\n",
      "a  [6, 4, 4, 2, 1]\n"
     ]
    }
   ],
   "source": [
    "#creating a dictionary to store frequencies of each order\n",
    "orderfreq = {}\n",
    "for i in l:\n",
    "    if i in orderfreq.keys():\n",
    "        orderfreq[i] += 1\n",
    "    else:\n",
    "        orderfreq[i] = 1\n",
    "\n",
    "#Sorting the frequencies\n",
    "a = sorted(list(orderfreq.values()))[::-1]\n",
    "\n",
    "#now, we create a key for each frequency, and then add the orders with the same frequency as an entry into that key\n",
    "ls = {}\n",
    "for i in a:\n",
    "    ls[i] = []\n",
    "\n",
    "#populating the dictionary\n",
    "for i in orderfreq:\n",
    "    ls[orderfreq[i]].append(i)\n",
    "\n",
    "#sorting each list so that ascending order\n",
    "for i in ls:\n",
    "    ls[i].sort()\n",
    "\n",
    "ans = [] # the list that we will return\n",
    "\n",
    "for i in ls:\n",
    "    for j in ls[i]:\n",
    "        ans.append(j)\n",
    "\n",
    "return (ans)\n"
   ]
  },
  {
   "cell_type": "code",
   "execution_count": null,
   "metadata": {},
   "outputs": [],
   "source": []
  }
 ],
 "metadata": {
  "kernelspec": {
   "display_name": "Python 3",
   "language": "python",
   "name": "python3"
  },
  "language_info": {
   "codemirror_mode": {
    "name": "ipython",
    "version": 3
   },
   "file_extension": ".py",
   "mimetype": "text/x-python",
   "name": "python",
   "nbconvert_exporter": "python",
   "pygments_lexer": "ipython3",
   "version": "3.11.9"
  }
 },
 "nbformat": 4,
 "nbformat_minor": 2
}
