{
 "cells": [
  {
   "cell_type": "code",
   "execution_count": 7,
   "metadata": {},
   "outputs": [],
   "source": [
    "class node:\n",
    "    def __init__(self, value = None):\n",
    "        self.value = value #value stored in the node\n",
    "        self.next = None #pointer to the next node in the linked list\n",
    "    \n",
    "    def isempty(self):\n",
    "        if self.value == None:\n",
    "            return (True)\n",
    "        else:\n",
    "            return (False)\n",
    "        \n",
    "    def __str__(self):\n",
    "        return (\"The current value is \" + str(self.value) + \" and this node points to \" + str(self.next))\n",
    "        \n",
    "class linkedlist:\n",
    "    def __init__(self):\n",
    "        self.head = None\n",
    "\n",
    "    #function to append a new node at the end of linked list\n",
    "    def append(self, value):\n",
    "        if self.isempty():\n",
    "            self.value = value\n",
    "            return\n",
    "        elif self.next == None: #appends when we reach the last element\n",
    "            self.next = node(value)\n",
    "            return\n",
    "        else:\n",
    "            self.next.append(node(value)) #recursively goes to the end\n",
    "            return\n",
    "        \n",
    "        \n",
    "\n",
    "    \n",
    "        \n",
    "        \n",
    "\n",
    "\n",
    "        \n"
   ]
  },
  {
   "cell_type": "code",
   "execution_count": 2,
   "metadata": {},
   "outputs": [],
   "source": [
    "a = node(5)\n"
   ]
  },
  {
   "cell_type": "code",
   "execution_count": 9,
   "metadata": {},
   "outputs": [
    {
     "name": "stdout",
     "output_type": "stream",
     "text": [
      "<__main__.node object at 0x0000021C472AF690>\n"
     ]
    }
   ],
   "source": [
    "print(a)"
   ]
  },
  {
   "cell_type": "code",
   "execution_count": null,
   "metadata": {},
   "outputs": [],
   "source": []
  }
 ],
 "metadata": {
  "kernelspec": {
   "display_name": "Python 3",
   "language": "python",
   "name": "python3"
  },
  "language_info": {
   "codemirror_mode": {
    "name": "ipython",
    "version": 3
   },
   "file_extension": ".py",
   "mimetype": "text/x-python",
   "name": "python",
   "nbconvert_exporter": "python",
   "pygments_lexer": "ipython3",
   "version": "3.11.9"
  }
 },
 "nbformat": 4,
 "nbformat_minor": 2
}
