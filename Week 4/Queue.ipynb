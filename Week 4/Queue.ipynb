{
 "cells": [
  {
   "cell_type": "code",
   "execution_count": 1,
   "metadata": {},
   "outputs": [],
   "source": [
    "class Queue:\n",
    "    def __init__(self) :\n",
    "        self.queue = []\n",
    "\n",
    "    def isempty(self):\n",
    "        return (self.queue == [])\n",
    "    \n",
    "    def addq(self, v):\n",
    "        self.queue.append(v)\n",
    "\n",
    "    def delq(self):\n",
    "        v = None\n",
    "        if not self.isempty:\n",
    "            v = self.queue[0]\n",
    "            self.queue = self.queue[1:]\n",
    "        return (v)\n",
    "    \n",
    "    def __str__(self) -> str:\n",
    "        return (str(self.queue))"
   ]
  },
  {
   "cell_type": "code",
   "execution_count": null,
   "metadata": {},
   "outputs": [],
   "source": []
  }
 ],
 "metadata": {
  "kernelspec": {
   "display_name": "Python 3",
   "language": "python",
   "name": "python3"
  },
  "language_info": {
   "codemirror_mode": {
    "name": "ipython",
    "version": 3
   },
   "file_extension": ".py",
   "mimetype": "text/x-python",
   "name": "python",
   "nbconvert_exporter": "python",
   "pygments_lexer": "ipython3",
   "version": "3.11.9"
  }
 },
 "nbformat": 4,
 "nbformat_minor": 2
}
