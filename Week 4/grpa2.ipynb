{
 "cells": [
  {
   "cell_type": "code",
   "execution_count": 4,
   "metadata": {},
   "outputs": [
    {
     "name": "stdout",
     "output_type": "stream",
     "text": [
      "1\n"
     ]
    }
   ],
   "source": [
    "def findMasterTank(tanks, pipes):\n",
    "    n = len(tanks)\n",
    "    adj_list = [[] for _ in range(n)]\n",
    "    in_degree = [0 for _ in range(n)]\n",
    "\n",
    "    # Create adjacency list and calculate in-degree of each node\n",
    "    for u, v in pipes:\n",
    "        u, v = int(u) - 1, int(v) - 1  # Convert u and v to 0-based indices\n",
    "        adj_list[u].append(v)\n",
    "        in_degree[v] += 1\n",
    "\n",
    "    # Find nodes with in-degree 0\n",
    "    start_nodes = [i for i in range(n) if in_degree[i] == 0]\n",
    "\n",
    "    if len(start_nodes) != 1:\n",
    "        return 0  # Multiple master tanks exist or no master tank exists\n",
    "\n",
    "    master_tank = start_nodes[0] + 1  # Convert back to 1-based index\n",
    "\n",
    "    # Perform DFS to check if all nodes are reachable from the master tank\n",
    "    visited = set()\n",
    "    stack = [master_tank - 1]  # Convert back to 0-based index\n",
    "\n",
    "    while stack:\n",
    "        node = stack.pop()\n",
    "        visited.add(node)\n",
    "\n",
    "        for neighbor in adj_list[node]:\n",
    "            if neighbor not in visited:\n",
    "                stack.append(neighbor)\n",
    "\n",
    "    if len(visited) != n:\n",
    "        return 0  # Not all nodes are reachable from the master tank\n",
    "\n",
    "    return master_tank\n",
    "\n",
    "\n",
    "v = [item for item in input().split(\" \")]\n",
    "# Tanks(vertices) numbered from 1 to n in string format.\n",
    "numberOfEdges = int(input())\n",
    "e = []\n",
    "for i in range(numberOfEdges):\n",
    "  s = input().split(\" \")\n",
    "  e.append((s[0], s[1]))\n",
    "print(findMasterTank(v, e))"
   ]
  },
  {
   "cell_type": "code",
   "execution_count": 3,
   "metadata": {},
   "outputs": [
    {
     "name": "stdout",
     "output_type": "stream",
     "text": [
      "0\n"
     ]
    }
   ],
   "source": [
    "tanks = input().split()\n",
    "m = int(input())\n",
    "pipes = [input().split() for _ in range(m)]\n",
    "\n",
    "print(findMasterTank(tanks, pipes))"
   ]
  }
 ],
 "metadata": {
  "kernelspec": {
   "display_name": "Python 3",
   "language": "python",
   "name": "python3"
  },
  "language_info": {
   "codemirror_mode": {
    "name": "ipython",
    "version": 3
   },
   "file_extension": ".py",
   "mimetype": "text/x-python",
   "name": "python",
   "nbconvert_exporter": "python",
   "pygments_lexer": "ipython3",
   "version": "3.11.9"
  }
 },
 "nbformat": 4,
 "nbformat_minor": 2
}
