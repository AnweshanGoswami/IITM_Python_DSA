{
 "cells": [
  {
   "cell_type": "code",
   "execution_count": 1,
   "metadata": {},
   "outputs": [],
   "source": [
    "edges = [[0,1], [0,4], [1,2], [2,0], [3,4],\n",
    "         [3,6], [4,0], [4,3], [4,7], [5,3],\n",
    "         [5,7], [6,5], [7,4], [7,8], [8,5],\n",
    "         [8,9], [9,8]]"
   ]
  },
  {
   "cell_type": "code",
   "execution_count": 2,
   "metadata": {},
   "outputs": [],
   "source": [
    "\n",
    "def adjm(edges,nodes):\n",
    "    import numpy as np\n",
    "    a = np.zeros(shape=(nodes, nodes)) #empty matrix where every value is zero, i.e. not reachable\n",
    "    \n",
    "    # making one where they're reachable\n",
    "    for (i,j) in edges:\n",
    "        a[i][j] = 1\n",
    "\n",
    "    return (a)\n"
   ]
  },
  {
   "cell_type": "code",
   "execution_count": 12,
   "metadata": {},
   "outputs": [],
   "source": [
    "def adjl(edges, nodes):\n",
    "    alist = {}\n",
    "    for i in range(nodes):\n",
    "        alist[i] = []\n",
    "    for (i,j) in edges:\n",
    "        alist[i].append(j)\n",
    "\n",
    "    return(alist)\n",
    "    "
   ]
  },
  {
   "cell_type": "code",
   "execution_count": 3,
   "metadata": {},
   "outputs": [],
   "source": [
    "class Queue:\n",
    "    def __init__(self) :\n",
    "        self.queue = []\n",
    "\n",
    "    def isempty(self):\n",
    "        return (self.queue == [])\n",
    "    \n",
    "    def addq(self, v):\n",
    "        self.queue.append(v)\n",
    "\n",
    "    def delq(self):\n",
    "        v = None\n",
    "        if not self.isempty:\n",
    "            v = self.queue[0]\n",
    "            self.queue = self.queue[1:]\n",
    "        return (v)\n",
    "    \n",
    "    def __str__(self) -> str:\n",
    "        return (str(self.queue))"
   ]
  },
  {
   "cell_type": "code",
   "execution_count": 4,
   "metadata": {},
   "outputs": [],
   "source": [
    "def neighbours(adjm, v):\n",
    "    import numpy as np\n",
    "    neighbours = []\n",
    "    (rows,cols) = np.shape(adjm)\n",
    "    for i in range(cols):\n",
    "        if adjm[v][i] == 1:\n",
    "            neighbours.append(i)\n",
    "    return (neighbours)\n"
   ]
  },
  {
   "cell_type": "code",
   "execution_count": 13,
   "metadata": {},
   "outputs": [
    {
     "name": "stdout",
     "output_type": "stream",
     "text": [
      "The adjacency matrix is \n",
      "[[0. 1. 0. 0. 1. 0. 0. 0. 0. 0.]\n",
      " [0. 0. 1. 0. 0. 0. 0. 0. 0. 0.]\n",
      " [1. 0. 0. 0. 0. 0. 0. 0. 0. 0.]\n",
      " [0. 0. 0. 0. 1. 0. 1. 0. 0. 0.]\n",
      " [1. 0. 0. 1. 0. 0. 0. 1. 0. 0.]\n",
      " [0. 0. 0. 1. 0. 0. 0. 1. 0. 0.]\n",
      " [0. 0. 0. 0. 0. 1. 0. 0. 0. 0.]\n",
      " [0. 0. 0. 0. 1. 0. 0. 0. 1. 0.]\n",
      " [0. 0. 0. 0. 0. 1. 0. 0. 0. 1.]\n",
      " [0. 0. 0. 0. 0. 0. 0. 0. 1. 0.]]\n",
      "The adjacency list is \n",
      "{0: [1, 4], 1: [2], 2: [0], 3: [4, 6], 4: [0, 3, 7], 5: [3, 7], 6: [5], 7: [4, 8], 8: [5, 9], 9: [8]}\n"
     ]
    }
   ],
   "source": [
    "amat = adjm(edges,10)\n",
    "alist = adjl(edges,10)\n",
    "\n",
    "print(\"The adjacency matrix is \")\n",
    "print(amat)\n",
    "print(\"The adjacency list is \")\n",
    "print(alist)\n"
   ]
  },
  {
   "cell_type": "code",
   "execution_count": 16,
   "metadata": {},
   "outputs": [],
   "source": [
    "def BFS_list(Alist, v):\n",
    "    visited, parent = {}, {}\n",
    "    for i in list(Alist.keys()):\n",
    "        visited[i] = False\n",
    "        parent[i] = -1\n",
    "\n",
    "    visited[v] = True\n",
    "    q = Queue()\n",
    "    q.addq(v)\n",
    "\n",
    "    while (not q.isempty()):\n",
    "        j = q.delq()\n",
    "        for k in Alist[j]:\n",
    "            if (not visited[k]):\n",
    "                visited[k] = True\n",
    "                parent[k] = j\n",
    "                q.addq(k)\n",
    "\n",
    "    return(visited,parent)"
   ]
  },
  {
   "cell_type": "code",
   "execution_count": 8,
   "metadata": {},
   "outputs": [],
   "source": [
    "def BFS_matrix(matrix, v):\n",
    "    import numpy as np\n",
    "    rows, cols = np.shape(matrix)\n",
    "    visited, parent = {}, {}\n",
    "    for i in range(rows):\n",
    "        visited[i] = False\n",
    "        parent[i] = -1\n",
    "\n",
    "    visited[v] = True\n",
    "    q = Queue()\n",
    "    q.addq(v)\n",
    "\n",
    "    while (not q.isempty()):\n",
    "        j = q.delq()\n",
    "        for k in neighbours(matrix, j):\n",
    "            if visited[k] == False:\n",
    "                visited[k] = True\n",
    "                parent[k] = j\n",
    "                q.addq(k)\n",
    "\n",
    "    return(visited, parent)"
   ]
  },
  {
   "cell_type": "code",
   "execution_count": 17,
   "metadata": {},
   "outputs": [
    {
     "ename": "KeyError",
     "evalue": "None",
     "output_type": "error",
     "traceback": [
      "\u001b[1;31m---------------------------------------------------------------------------\u001b[0m",
      "\u001b[1;31mKeyError\u001b[0m                                  Traceback (most recent call last)",
      "Cell \u001b[1;32mIn[17], line 1\u001b[0m\n\u001b[1;32m----> 1\u001b[0m (visited, parents) \u001b[38;5;241m=\u001b[39m \u001b[43mBFS_list\u001b[49m\u001b[43m(\u001b[49m\u001b[43malist\u001b[49m\u001b[43m,\u001b[49m\u001b[38;5;241;43m1\u001b[39;49m\u001b[43m)\u001b[49m\n",
      "Cell \u001b[1;32mIn[16], line 13\u001b[0m, in \u001b[0;36mBFS_list\u001b[1;34m(Alist, v)\u001b[0m\n\u001b[0;32m     11\u001b[0m \u001b[38;5;28;01mwhile\u001b[39;00m (\u001b[38;5;129;01mnot\u001b[39;00m q\u001b[38;5;241m.\u001b[39misempty()):\n\u001b[0;32m     12\u001b[0m     j \u001b[38;5;241m=\u001b[39m q\u001b[38;5;241m.\u001b[39mdelq()\n\u001b[1;32m---> 13\u001b[0m     \u001b[38;5;28;01mfor\u001b[39;00m k \u001b[38;5;129;01min\u001b[39;00m \u001b[43mAlist\u001b[49m\u001b[43m[\u001b[49m\u001b[43mj\u001b[49m\u001b[43m]\u001b[49m:\n\u001b[0;32m     14\u001b[0m         \u001b[38;5;28;01mif\u001b[39;00m (\u001b[38;5;129;01mnot\u001b[39;00m visited[k]):\n\u001b[0;32m     15\u001b[0m             visited[k] \u001b[38;5;241m=\u001b[39m \u001b[38;5;28;01mTrue\u001b[39;00m\n",
      "\u001b[1;31mKeyError\u001b[0m: None"
     ]
    }
   ],
   "source": [
    "(visited, parents) = BFS_list(alist,1)"
   ]
  },
  {
   "cell_type": "code",
   "execution_count": null,
   "metadata": {},
   "outputs": [],
   "source": []
  }
 ],
 "metadata": {
  "kernelspec": {
   "display_name": "Python 3",
   "language": "python",
   "name": "python3"
  },
  "language_info": {
   "codemirror_mode": {
    "name": "ipython",
    "version": 3
   },
   "file_extension": ".py",
   "mimetype": "text/x-python",
   "name": "python",
   "nbconvert_exporter": "python",
   "pygments_lexer": "ipython3",
   "version": "3.11.9"
  }
 },
 "nbformat": 4,
 "nbformat_minor": 2
}
