{
 "cells": [
  {
   "cell_type": "code",
   "execution_count": 32,
   "metadata": {},
   "outputs": [],
   "source": [
    "class Queue:\n",
    "    def __init__(self) :\n",
    "        self.queue = []\n",
    "\n",
    "    def isempty(self):\n",
    "        return (self.queue == [])\n",
    "    \n",
    "    def addq(self, v):\n",
    "        self.queue.append(v)\n",
    "\n",
    "    def delq(self):\n",
    "        v = None\n",
    "        if not self.isempty():\n",
    "            v = self.queue[0]\n",
    "            self.queue = self.queue[1:]\n",
    "        return (v)\n",
    "    \n",
    "    def size(self):\n",
    "        s = len(self.queue)\n",
    "        return(s)\n",
    "    \n",
    "    def __str__(self) -> str:\n",
    "        return (str(self.queue))"
   ]
  },
  {
   "cell_type": "code",
   "execution_count": 13,
   "metadata": {},
   "outputs": [],
   "source": [
    "def neighbours(adjm, v):\n",
    "    import numpy as np\n",
    "    neighbours = []\n",
    "    (rows,cols) = np.shape(adjm)\n",
    "    for i in range(cols):\n",
    "        if adjm[int(v)][int(i)] == 1:\n",
    "            neighbours.append(int(i))\n",
    "    return (neighbours)"
   ]
  },
  {
   "cell_type": "code",
   "execution_count": 16,
   "metadata": {},
   "outputs": [
    {
     "data": {
      "text/plain": [
       "int"
      ]
     },
     "execution_count": 16,
     "metadata": {},
     "output_type": "execute_result"
    }
   ],
   "source": [
    "type(neighbours(Amat,personX)[0])"
   ]
  },
  {
   "cell_type": "code",
   "execution_count": 22,
   "metadata": {},
   "outputs": [],
   "source": [
    "vertices = 7\n",
    "Amat = []\n",
    "for i in range(vertices):\n",
    "  row = [int(item) for item in input().split(\" \")]\n",
    "  Amat.append(row)\n",
    "personX = 6\n",
    "personY = 0\n",
    "#print(findConnectionLevel(vertices, Amat, personX, personY))"
   ]
  },
  {
   "cell_type": "code",
   "execution_count": 23,
   "metadata": {},
   "outputs": [
    {
     "name": "stdout",
     "output_type": "stream",
     "text": [
      "[[0, 1, 1, 0, 0, 0, 0], [1, 0, 1, 1, 1, 1, 0], [1, 1, 0, 1, 1, 1, 0], [0, 1, 1, 0, 1, 0, 0], [0, 1, 1, 1, 0, 1, 0], [0, 1, 1, 0, 1, 0, 0], [0, 0, 0, 0, 0, 0, 0]]\n"
     ]
    }
   ],
   "source": [
    "print(Amat)"
   ]
  },
  {
   "cell_type": "code",
   "execution_count": 7,
   "metadata": {},
   "outputs": [
    {
     "data": {
      "text/plain": [
       "{0: False, 1: False, 2: False, 3: False, 4: False, 5: False, 6: True}"
      ]
     },
     "execution_count": 7,
     "metadata": {},
     "output_type": "execute_result"
    }
   ],
   "source": [
    "visited = {i : False for i in range(vertices)}\n",
    "visited[personX] = True\n",
    "visited"
   ]
  },
  {
   "cell_type": "code",
   "execution_count": 27,
   "metadata": {},
   "outputs": [],
   "source": [
    "def findConnectionLevel(vertices, Amat, personX, personY):\n",
    "    import numpy as np\n",
    "    \n",
    "    level = 0 #level at which we find our target node\n",
    "    q = Queue()\n",
    "    q.addq(personX)\n",
    "    \n",
    "    visited = {i : False for i in range(vertices)}\n",
    "    visited[personX] = True\n",
    "\n",
    "    while not q.isempty():\n",
    "        size = q.size()\n",
    "        while size > 0:\n",
    "            curr_person = q.delq()\n",
    "            if curr_person == personY:\n",
    "                return level\n",
    "\n",
    "            for i in range(vertices):\n",
    "                if Amat[curr_person][i] == 1 and not visited[i]:\n",
    "                    q.addq(i)\n",
    "                    visited[i] = True\n",
    "            size -= 1\n",
    "        level += 1\n",
    "\n",
    "    return 0  # Return -1 if no connection is found"
   ]
  },
  {
   "cell_type": "code",
   "execution_count": 40,
   "metadata": {},
   "outputs": [
    {
     "data": {
      "text/plain": [
       "0"
      ]
     },
     "execution_count": 40,
     "metadata": {},
     "output_type": "execute_result"
    }
   ],
   "source": [
    "findConnectionLevel(7,Amat,6,0)"
   ]
  },
  {
   "cell_type": "code",
   "execution_count": 39,
   "metadata": {},
   "outputs": [],
   "source": [
    "# This is a queue class which we will use to store our vertices\n",
    "class Queue:\n",
    "    def __init__(self) :\n",
    "        self.queue = []\n",
    "\n",
    "    def isempty(self):\n",
    "        return (self.queue == [])\n",
    "    \n",
    "    def addq(self, v):\n",
    "        self.queue.append(v)\n",
    "\n",
    "    def delq(self):\n",
    "        v = None\n",
    "        if not self.isempty():\n",
    "            v = self.queue[0]\n",
    "            self.queue = self.queue[1:]\n",
    "        return (v)\n",
    "    \n",
    "    def size(self):\n",
    "        return(len(self.queue))\n",
    "    \n",
    "    def __str__(self) -> str:\n",
    "        return (str(self.queue))\n",
    "    \n",
    "# This function will be used to find out the neighboring vertices of each vertex\n",
    "def neighbours(adjm, v):\n",
    "    import numpy as np\n",
    "    neighbours = []\n",
    "    (rows,cols) = np.shape(adjm)\n",
    "    for i in range(cols):\n",
    "        if adjm[int(v)][int(i)] == 1:\n",
    "            neighbours.append(int(i))\n",
    "    return (neighbours)\n",
    "\n",
    "# Our primary function\n",
    "def findConnectionLevel(vertices, Amat, personX, personY):\n",
    "    import numpy as np\n",
    "    \n",
    "    level = 0 #level at which we find our target node\n",
    "    q = Queue()\n",
    "    q.addq(personX)\n",
    "    \n",
    "    visited = {i : False for i in range(vertices)}\n",
    "    visited[personX] = True\n",
    "\n",
    "    while not q.isempty():\n",
    "        size = q.size()\n",
    "        while size > 0:\n",
    "            curr_person = q.delq()\n",
    "            if curr_person == personY:\n",
    "                return level\n",
    "\n",
    "            for neighbor in neighbours(Amat, curr_person):\n",
    "                if not visited[neighbor]:\n",
    "                    q.addq(neighbor)\n",
    "                    visited[neighbor] = True\n",
    "            size -= 1\n",
    "        level += 1\n",
    "\n",
    "    return 0  # Return -1 if no connection is found\n",
    "    \n",
    "\n",
    "\n",
    "\n"
   ]
  },
  {
   "cell_type": "code",
   "execution_count": null,
   "metadata": {},
   "outputs": [],
   "source": []
  }
 ],
 "metadata": {
  "kernelspec": {
   "display_name": "Python 3",
   "language": "python",
   "name": "python3"
  },
  "language_info": {
   "codemirror_mode": {
    "name": "ipython",
    "version": 3
   },
   "file_extension": ".py",
   "mimetype": "text/x-python",
   "name": "python",
   "nbconvert_exporter": "python",
   "pygments_lexer": "ipython3",
   "version": "3.11.9"
  }
 },
 "nbformat": 4,
 "nbformat_minor": 2
}
