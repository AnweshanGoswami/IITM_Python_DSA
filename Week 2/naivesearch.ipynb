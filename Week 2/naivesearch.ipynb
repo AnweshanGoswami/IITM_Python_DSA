{
 "cells": [
  {
   "cell_type": "code",
   "execution_count": 2,
   "metadata": {},
   "outputs": [],
   "source": [
    "def naivesearch(l,v):\n",
    "    start = time.perf_counter()\n",
    "    for i in l:\n",
    "        if i == v:\n",
    "            return(True, time.perf_counter() - start )\n",
    "    else:\n",
    "        return (False, time.perf_counter() - start)\n"
   ]
  },
  {
   "cell_type": "code",
   "execution_count": 3,
   "metadata": {},
   "outputs": [
    {
     "name": "stdout",
     "output_type": "stream",
     "text": [
      "(True, 5.720002809539437e-05)\n",
      "(False, 5.530001362785697e-05)\n"
     ]
    }
   ],
   "source": [
    "import time\n",
    "l = []\n",
    "for i in range(0,10000,2):\n",
    "    l.append(i)\n",
    "print(naivesearch(l,9982))\n",
    "print(naivesearch(l,9999))"
   ]
  },
  {
   "cell_type": "code",
   "execution_count": 4,
   "metadata": {},
   "outputs": [
    {
     "name": "stdout",
     "output_type": "stream",
     "text": [
      "(True, 0.0005537000251933932)\n",
      "(False, 0.0005507000023499131)\n"
     ]
    }
   ],
   "source": [
    "import time\n",
    "l = []\n",
    "for i in range(0,100000,2):\n",
    "    l.append(i)\n",
    "print(naivesearch(l,99982))\n",
    "print(naivesearch(l,99999))"
   ]
  },
  {
   "cell_type": "code",
   "execution_count": 5,
   "metadata": {},
   "outputs": [
    {
     "name": "stdout",
     "output_type": "stream",
     "text": [
      "(True, 0.0052776000229641795)\n",
      "(False, 0.005308500025421381)\n"
     ]
    }
   ],
   "source": [
    "import time\n",
    "l = []\n",
    "for i in range(0,1000000,2):\n",
    "    l.append(i)\n",
    "print(naivesearch(l,999982))\n",
    "print(naivesearch(l,999999))"
   ]
  },
  {
   "cell_type": "code",
   "execution_count": 7,
   "metadata": {},
   "outputs": [
    {
     "name": "stdout",
     "output_type": "stream",
     "text": [
      "(True, 0.07722340000327677)\n",
      "(False, 0.6440308000310324)\n"
     ]
    }
   ],
   "source": [
    "import time\n",
    "l = []\n",
    "for i in range(0,100000000,2):\n",
    "    l.append(i)\n",
    "print(naivesearch(l,9999992))\n",
    "print(naivesearch(l,9999999))"
   ]
  },
  {
   "cell_type": "code",
   "execution_count": 6,
   "metadata": {},
   "outputs": [
    {
     "name": "stdout",
     "output_type": "stream",
     "text": [
      "(True, 0.05559890001313761)\n",
      "(False, 0.05348709999816492)\n"
     ]
    }
   ],
   "source": [
    "import time\n",
    "l = []\n",
    "for i in range(0,10000000,2):\n",
    "    l.append(i)\n",
    "print(naivesearch(l,9999982))\n",
    "print(naivesearch(l,9999999))"
   ]
  },
  {
   "cell_type": "code",
   "execution_count": 8,
   "metadata": {},
   "outputs": [
    {
     "name": "stdout",
     "output_type": "stream",
     "text": [
      "(True, 2.352231400029268)\n",
      "(False, 54.69013340002857)\n"
     ]
    }
   ],
   "source": [
    "import time\n",
    "l = []\n",
    "for i in range(0,1000000000,2):\n",
    "    l.append(i)\n",
    "print(naivesearch(l,99999992))\n",
    "print(naivesearch(l,99999999))"
   ]
  }
 ],
 "metadata": {
  "kernelspec": {
   "display_name": "Python 3",
   "language": "python",
   "name": "python3"
  },
  "language_info": {
   "codemirror_mode": {
    "name": "ipython",
    "version": 3
   },
   "file_extension": ".py",
   "mimetype": "text/x-python",
   "name": "python",
   "nbconvert_exporter": "python",
   "pygments_lexer": "ipython3",
   "version": "3.11.9"
  }
 },
 "nbformat": 4,
 "nbformat_minor": 2
}
