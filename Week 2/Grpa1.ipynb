{
 "cells": [
  {
   "cell_type": "code",
   "execution_count": 5,
   "metadata": {},
   "outputs": [
    {
     "name": "stdout",
     "output_type": "stream",
     "text": [
      "['a', 'b', 'p', 'x', 'z']\n"
     ]
    }
   ],
   "source": [
    "a = [\"a\",\"z\",\"x\",\"b\",\"p\"]\n",
    "b = sorted(a)\n",
    "print(b)"
   ]
  },
  {
   "cell_type": "code",
   "execution_count": 1,
   "metadata": {},
   "outputs": [
    {
     "name": "stdout",
     "output_type": "stream",
     "text": [
      "d\n"
     ]
    }
   ],
   "source": [
    "a = [\"d34\",\"g54\",\"d12\",\"b87\",\"g1\",\"c65\",\"g40\",\"g5\",\"d77\"]\n",
    "print(a[0][0])"
   ]
  },
  {
   "cell_type": "code",
   "execution_count": 4,
   "metadata": {},
   "outputs": [
    {
     "name": "stdout",
     "output_type": "stream",
     "text": [
      "['a', 'b', 'p', 'x', 'z']\n"
     ]
    }
   ],
   "source": [
    "def combinationSort(strList):\n",
    "    L1 = sorted(strList)\n",
    "    \n",
    "    \n",
    "    alphabets = set()\n",
    "    for i in L1:\n",
    "        alphabets.add(i[0])\n",
    "    alphabets_sorted = sorted(list(alphabets))\n",
    "    print(alphabets_sorted)\n",
    "\n",
    "    \n",
    "\n",
    "\n",
    "combinationSort(a)"
   ]
  },
  {
   "cell_type": "code",
   "execution_count": 40,
   "metadata": {},
   "outputs": [
    {
     "name": "stdout",
     "output_type": "stream",
     "text": [
      "['d34', 'g54', 'd12', 'b87', 'g1', 'c65', 'g40', 'g5', 'd77']\n",
      "{'b': [87], 'c': [65], 'd': [77, 34, 12], 'g': [54, 40, 5, 1]}\n"
     ]
    },
    {
     "data": {
      "text/plain": [
       "(['b87', 'c65', 'd34', 'd12', 'd77', 'g54', 'g1', 'g40', 'g5'],\n",
       " ['b87', 'c65', 'd77', 'd34', 'd12', 'g54', 'g40', 'g5', 'g1'])"
      ]
     },
     "execution_count": 40,
     "metadata": {},
     "output_type": "execute_result"
    }
   ],
   "source": [
    "def combinationSort(strList):\n",
    "    L3 = sorted(strList)\n",
    "    \n",
    "    \n",
    "\n",
    "    alphabets = set()\n",
    "    digits = []\n",
    "    ald = {}\n",
    "    for i in L3:\n",
    "        alphabets.add(i[0])\n",
    "        digits.append(int(i[1:]))\n",
    "    alphabets_sorted = sorted(list(alphabets))\n",
    "    aldi = {}\n",
    "\n",
    "    \n",
    "\n",
    "    for i in alphabets_sorted:\n",
    "        ald[i] = []\n",
    "        aldi[i] = []\n",
    "\n",
    "\n",
    "    for i in strList:\n",
    "        if i[0] in alphabets:\n",
    "            aldi[i[0]].append(i[1:])\n",
    "\n",
    "    for i in strList:\n",
    "        if i[0] in alphabets:\n",
    "            ald[i[0]].append(int(i[1:]))\n",
    "\n",
    "    for i in ald:\n",
    "        ald[i]  = sorted(ald[i], reverse=True)\n",
    "    \n",
    "    L1 = []\n",
    "    for i in aldi:\n",
    "        for j in aldi[i[0]]:\n",
    "            \n",
    "            x = str(i[0]) + str(j)\n",
    "            L1.append(x)\n",
    "\n",
    "    L2 = []\n",
    "    for i in ald:\n",
    "        for j in ald[i[0]]:\n",
    "            \n",
    "            x = str(i[0]) + str(j)\n",
    "            L2.append(x)\n",
    "\n",
    "\n",
    "    return(L1,L2)\n",
    "\n",
    "combinationSort(a)\n",
    "\n"
   ]
  },
  {
   "cell_type": "code",
   "execution_count": 8,
   "metadata": {},
   "outputs": [],
   "source": [
    "#python\n",
    "import string\n",
    "def combinationSort(strList):\n",
    "  # Create a dictionary with 26 keys from characters 'a' to 'z', each key has an empty list as value.\n",
    "  groups = {k: [] for k in string.ascii_lowercase}\n",
    "\n",
    "  # Using this dictionary to group strings with same initial character.  \n",
    "  for i in range(len(strList)):\n",
    "    char=strList[i][0]\n",
    "    groups[char].append(strList[i])\n",
    "  \n",
    "  strList=[]\n",
    "  # Recreate the list from all the strings in groups, iterating on groups from a to z.\n",
    "  # because the dictionary already has the alphabets organised in order, and numbers need not be in order\n",
    "  for char in groups.keys():\n",
    "    for s in groups[char]:\n",
    "      strList.append(s)\n",
    "  \n",
    "  print(strList)\n",
    "  L1 = strList.copy() # Saving intermediate result to return later.\n",
    "  i = 1\n",
    "  left = 0\n",
    "  # As there can be no more than 100 strings with same initial character.\n",
    "  # Using insertion sort within group.\n",
    "  while i<len(strList):\n",
    "    right = i\n",
    "    while(right>left and strList[right][0] == strList[right-1][0] and int(strList[right-1][1:])<int(strList[right][1:])):\n",
    "      print(\"before swapping\")\n",
    "      print(\"i = \", i, \"left  =\", left, \"right = \", right)\n",
    "      strList[right], strList[right-1] = strList[right-1], strList[right]\n",
    "      right -= 1\n",
    "      print(\"After swapping\")\n",
    "      print(\"i = \", i, \"left  =\", left, \"right = \", right)\n",
    "    i += 1\n",
    "  \n",
    "  return L1, strList"
   ]
  },
  {
   "cell_type": "code",
   "execution_count": 9,
   "metadata": {},
   "outputs": [
    {
     "name": "stdout",
     "output_type": "stream",
     "text": [
      "['b87', 'c65', 'd34', 'd12', 'd77', 'g54', 'g1', 'g40', 'g5']\n",
      "before swapping\n",
      "i =  4 left  = 0 right =  4\n",
      "After swapping\n",
      "i =  4 left  = 0 right =  3\n",
      "before swapping\n",
      "i =  4 left  = 0 right =  3\n",
      "After swapping\n",
      "i =  4 left  = 0 right =  2\n",
      "before swapping\n",
      "i =  7 left  = 0 right =  7\n",
      "After swapping\n",
      "i =  7 left  = 0 right =  6\n",
      "before swapping\n",
      "i =  8 left  = 0 right =  8\n",
      "After swapping\n",
      "i =  8 left  = 0 right =  7\n"
     ]
    },
    {
     "data": {
      "text/plain": [
       "(['b87', 'c65', 'd34', 'd12', 'd77', 'g54', 'g1', 'g40', 'g5'],\n",
       " ['b87', 'c65', 'd77', 'd34', 'd12', 'g54', 'g40', 'g5', 'g1'])"
      ]
     },
     "execution_count": 9,
     "metadata": {},
     "output_type": "execute_result"
    }
   ],
   "source": [
    "combinationSort(a)"
   ]
  },
  {
   "cell_type": "code",
   "execution_count": null,
   "metadata": {},
   "outputs": [],
   "source": []
  }
 ],
 "metadata": {
  "kernelspec": {
   "display_name": "Python 3",
   "language": "python",
   "name": "python3"
  },
  "language_info": {
   "codemirror_mode": {
    "name": "ipython",
    "version": 3
   },
   "file_extension": ".py",
   "mimetype": "text/x-python",
   "name": "python",
   "nbconvert_exporter": "python",
   "pygments_lexer": "ipython3",
   "version": "3.11.9"
  }
 },
 "nbformat": 4,
 "nbformat_minor": 2
}
