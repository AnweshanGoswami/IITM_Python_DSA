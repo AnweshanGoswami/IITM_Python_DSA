{
 "cells": [
  {
   "cell_type": "code",
   "execution_count": 5,
   "metadata": {},
   "outputs": [
    {
     "name": "stdout",
     "output_type": "stream",
     "text": [
      "['a', 'b', 'p', 'x', 'z']\n"
     ]
    }
   ],
   "source": [
    "a = [\"a\",\"z\",\"x\",\"b\",\"p\"]\n",
    "b = sorted(a)\n",
    "print(b)"
   ]
  },
  {
   "cell_type": "code",
   "execution_count": 2,
   "metadata": {},
   "outputs": [
    {
     "name": "stdout",
     "output_type": "stream",
     "text": [
      "d\n"
     ]
    }
   ],
   "source": [
    "a = [\"d34\",\"g54\",\"d12\",\"b87\",\"g1\",\"c65\",\"g40\",\"g5\",\"d77\"]\n",
    "print(a[0][0])"
   ]
  },
  {
   "cell_type": "code",
   "execution_count": 4,
   "metadata": {},
   "outputs": [
    {
     "name": "stdout",
     "output_type": "stream",
     "text": [
      "['a', 'b', 'p', 'x', 'z']\n"
     ]
    }
   ],
   "source": [
    "def combinationSort(strList):\n",
    "    L1 = sorted(strList)\n",
    "    \n",
    "    \n",
    "    alphabets = set()\n",
    "    for i in L1:\n",
    "        alphabets.add(i[0])\n",
    "    alphabets_sorted = sorted(list(alphabets))\n",
    "    print(alphabets_sorted)\n",
    "\n",
    "    \n",
    "\n",
    "\n",
    "combinationSort(a)"
   ]
  },
  {
   "cell_type": "code",
   "execution_count": 40,
   "metadata": {},
   "outputs": [
    {
     "name": "stdout",
     "output_type": "stream",
     "text": [
      "['d34', 'g54', 'd12', 'b87', 'g1', 'c65', 'g40', 'g5', 'd77']\n",
      "{'b': [87], 'c': [65], 'd': [77, 34, 12], 'g': [54, 40, 5, 1]}\n"
     ]
    },
    {
     "data": {
      "text/plain": [
       "(['b87', 'c65', 'd34', 'd12', 'd77', 'g54', 'g1', 'g40', 'g5'],\n",
       " ['b87', 'c65', 'd77', 'd34', 'd12', 'g54', 'g40', 'g5', 'g1'])"
      ]
     },
     "execution_count": 40,
     "metadata": {},
     "output_type": "execute_result"
    }
   ],
   "source": [
    "def combinationSort(strList):\n",
    "    L3 = sorted(strList)\n",
    "    \n",
    "    \n",
    "\n",
    "    alphabets = set()\n",
    "    digits = []\n",
    "    ald = {}\n",
    "    for i in L3:\n",
    "        alphabets.add(i[0])\n",
    "        digits.append(int(i[1:]))\n",
    "    alphabets_sorted = sorted(list(alphabets))\n",
    "    aldi = {}\n",
    "\n",
    "    \n",
    "\n",
    "    for i in alphabets_sorted:\n",
    "        ald[i] = []\n",
    "        aldi[i] = []\n",
    "\n",
    "\n",
    "    for i in strList:\n",
    "        if i[0] in alphabets:\n",
    "            aldi[i[0]].append(i[1:])\n",
    "\n",
    "    for i in strList:\n",
    "        if i[0] in alphabets:\n",
    "            ald[i[0]].append(int(i[1:]))\n",
    "\n",
    "    for i in ald:\n",
    "        ald[i]  = sorted(ald[i], reverse=True)\n",
    "    \n",
    "    L1 = []\n",
    "    for i in aldi:\n",
    "        for j in aldi[i[0]]:\n",
    "            \n",
    "            x = str(i[0]) + str(j)\n",
    "            L1.append(x)\n",
    "\n",
    "    L2 = []\n",
    "    for i in ald:\n",
    "        for j in ald[i[0]]:\n",
    "            \n",
    "            x = str(i[0]) + str(j)\n",
    "            L2.append(x)\n",
    "\n",
    "\n",
    "    return(L1,L2)\n",
    "\n",
    "combinationSort(a)\n",
    "\n"
   ]
  },
  {
   "cell_type": "code",
   "execution_count": null,
   "metadata": {},
   "outputs": [],
   "source": []
  }
 ],
 "metadata": {
  "kernelspec": {
   "display_name": "Python 3",
   "language": "python",
   "name": "python3"
  },
  "language_info": {
   "codemirror_mode": {
    "name": "ipython",
    "version": 3
   },
   "file_extension": ".py",
   "mimetype": "text/x-python",
   "name": "python",
   "nbconvert_exporter": "python",
   "pygments_lexer": "ipython3",
   "version": "3.11.9"
  }
 },
 "nbformat": 4,
 "nbformat_minor": 2
}
