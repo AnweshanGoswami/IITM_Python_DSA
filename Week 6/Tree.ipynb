{
 "cells": [
  {
   "cell_type": "markdown",
   "metadata": {},
   "source": [
    "# Tree Class"
   ]
  },
  {
   "cell_type": "code",
   "execution_count": 1,
   "metadata": {},
   "outputs": [],
   "source": [
    "class Tree:\n",
    "    \n",
    "    # Constructor\n",
    "    def __init__(self, value = None) :\n",
    "        self.value = value\n",
    "        if self.value: # Creating frontiers\n",
    "            self.left = Tree() \n",
    "            self.right = Tree()\n",
    "        else:\n",
    "            self.left = None\n",
    "            self.right = None\n",
    "\n",
    "    # To check if node is empty\n",
    "    # A node is empty only when it has no value\n",
    "    def isEmpty(self):\n",
    "        return (self.vlue == None)\n",
    "    \n",
    "    # A node is a leaf if it has a value but no children\n",
    "    def isLeaf(self):\n",
    "        return (self.value != None and\n",
    "                self.left == None and\n",
    "                self.right == None)        "
   ]
  },
  {
   "cell_type": "markdown",
   "metadata": {},
   "source": [
    "## Inorder transversal\n",
    "\n",
    "We follow ascending order this time, but we can choose any order or orientation that we wish to implement.\n",
    "We will use recurrsion to travel to the left or right of the node until we find an emplty node"
   ]
  },
  {
   "cell_type": "code",
   "execution_count": 3,
   "metadata": {},
   "outputs": [],
   "source": [
    "class Tree:\n",
    "    \n",
    "    # Constructor\n",
    "    def __init__(self, value = None) :\n",
    "        self.value = value\n",
    "        if self.value: # Creating frontiers\n",
    "            self.left = Tree() \n",
    "            self.right = Tree()\n",
    "        else:\n",
    "            self.left = None\n",
    "            self.right = None\n",
    "\n",
    "    # To check if node is empty\n",
    "    # A node is empty only when it has no value\n",
    "    def isEmpty(self):\n",
    "        return (self.vlue == None)\n",
    "    \n",
    "    # A node is a leaf if it has a value but no children\n",
    "    def isLeaf(self):\n",
    "        return (self.value != None and\n",
    "                self.left == None and\n",
    "                self.right == None)        \n",
    "    \n",
    "    def inorder(self):\n",
    "        if self.isEmpty():\n",
    "            return([])\n",
    "        else:\n",
    "            return (self.left.inorder() + [self.value]+ self.right.inorder()) # A list implenentation in ascending order\n",
    "        \n",
    "    def __str__(self):\n",
    "        return (str(self.inorder()))"
   ]
  }
 ],
 "metadata": {
  "kernelspec": {
   "display_name": "Python 3",
   "language": "python",
   "name": "python3"
  },
  "language_info": {
   "codemirror_mode": {
    "name": "ipython",
    "version": 3
   },
   "file_extension": ".py",
   "mimetype": "text/x-python",
   "name": "python",
   "nbconvert_exporter": "python",
   "pygments_lexer": "ipython3",
   "version": "3.11.9"
  }
 },
 "nbformat": 4,
 "nbformat_minor": 2
}
