{
 "cells": [
  {
   "cell_type": "code",
   "execution_count": null,
   "metadata": {},
   "outputs": [],
   "source": [
    "def selection_sort(L):\n",
    "    n = len(L)\n",
    "    if n<=1:\n",
    "        return L\n",
    "    for i in range(n):\n",
    "        minpos = i\n",
    "        for j in range(i+1,n):\n",
    "            if L[j]<L[minpos]:\n",
    "                minpos = j\n",
    "        (L[minpos], L[i]) = (L[i], L[minpos])\n",
    "\n",
    "    return L"
   ]
  },
  {
   "cell_type": "code",
   "execution_count": null,
   "metadata": {},
   "outputs": [],
   "source": [
    "def pivot(L,upper,lower):\n",
    "    pivot = L[lower]\n",
    "    i = lower\n",
    "    for j in range(lower+1,upper+1):\n",
    "        if L[j] < pivot:\n",
    "            i += 1\n",
    "            L[i],L[j] = L[j],L[i]\n",
    "        L[lower],L[i] = L[i],L[lower]\n",
    "    return i\n",
    "\n",
    "def pivotsort(L,lower,upper):\n",
    "    if lower<upper:\n",
    "        "
   ]
  }
 ],
 "metadata": {
  "language_info": {
   "name": "python"
  }
 },
 "nbformat": 4,
 "nbformat_minor": 2
}
