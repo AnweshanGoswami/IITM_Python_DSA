{
 "cells": [
  {
   "cell_type": "code",
   "execution_count": null,
   "metadata": {},
   "outputs": [],
   "source": [
    "class Queue:\n",
    "    def __init__(self):\n",
    "        self.Queue = []\n",
    "\n",
    "    def isempty(self):\n",
    "        return self.Queue==[]\n",
    "    def addq(self,value):\n",
    "        self.Queue.append(value)\n",
    "        return\n",
    "    def delq(self,value):\n",
    "        v = None\n",
    "        if not self.isempty():\n",
    "            "
   ]
  }
 ],
 "metadata": {
  "language_info": {
   "name": "python"
  }
 },
 "nbformat": 4,
 "nbformat_minor": 2
}
